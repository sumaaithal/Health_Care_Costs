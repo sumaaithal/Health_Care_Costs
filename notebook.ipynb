{
 "cells": [
  {
   "cell_type": "markdown",
   "id": "73b1ca09-7a58-4a70-82be-5a98339da09b",
   "metadata": {},
   "source": [
    "### Import Standard Libraries"
   ]
  },
  {
   "cell_type": "code",
   "execution_count": 576,
   "id": "d8d9a219-169d-4a50-b34b-c4fb0ee4caad",
   "metadata": {},
   "outputs": [],
   "source": [
    "import pandas as pd\n",
    "import numpy as np\n",
    "import matplotlib.pyplot as plt\n",
    "import seaborn as sns\n",
    "from sklearn.linear_model import LinearRegression, Ridge, Lasso\n",
    "from sklearn.tree import DecisionTreeRegressor\n",
    "from sklearn.ensemble import RandomForestRegressor, AdaBoostRegressor, GradientBoostingRegressor\n",
    "from sklearn.model_selection import train_test_split, KFold, cross_val_score, GridSearchCV\n",
    "from sklearn.metrics import root_mean_squared_error, r2_score\n",
    "from sklearn.preprocessing import StandardScaler"
   ]
  },
  {
   "cell_type": "markdown",
   "id": "d8465caf-46e6-4571-b026-9fe05e239c01",
   "metadata": {},
   "source": [
    "### Read and Understand the data"
   ]
  },
  {
   "cell_type": "code",
   "execution_count": 663,
   "id": "6dd04acb-e3cd-4023-b6a1-7a4cfe72f790",
   "metadata": {},
   "outputs": [
    {
     "data": {
      "text/html": [
       "<div>\n",
       "<style scoped>\n",
       "    .dataframe tbody tr th:only-of-type {\n",
       "        vertical-align: middle;\n",
       "    }\n",
       "\n",
       "    .dataframe tbody tr th {\n",
       "        vertical-align: top;\n",
       "    }\n",
       "\n",
       "    .dataframe thead th {\n",
       "        text-align: right;\n",
       "    }\n",
       "</style>\n",
       "<table border=\"1\" class=\"dataframe\">\n",
       "  <thead>\n",
       "    <tr style=\"text-align: right;\">\n",
       "      <th></th>\n",
       "      <th>Age</th>\n",
       "      <th>BMI</th>\n",
       "      <th>SmokingStatus</th>\n",
       "      <th>ChronicCondition</th>\n",
       "      <th>AnnualCost</th>\n",
       "    </tr>\n",
       "  </thead>\n",
       "  <tbody>\n",
       "    <tr>\n",
       "      <th>0</th>\n",
       "      <td>58</td>\n",
       "      <td>37.0</td>\n",
       "      <td>Non-Smoker</td>\n",
       "      <td>Yes</td>\n",
       "      <td>6725.12</td>\n",
       "    </tr>\n",
       "    <tr>\n",
       "      <th>1</th>\n",
       "      <td>71</td>\n",
       "      <td>33.1</td>\n",
       "      <td>Smoker</td>\n",
       "      <td>Yes</td>\n",
       "      <td>17359.16</td>\n",
       "    </tr>\n",
       "    <tr>\n",
       "      <th>2</th>\n",
       "      <td>48</td>\n",
       "      <td>28.2</td>\n",
       "      <td>Smoker</td>\n",
       "      <td>Yes</td>\n",
       "      <td>7259.34</td>\n",
       "    </tr>\n",
       "    <tr>\n",
       "      <th>3</th>\n",
       "      <td>34</td>\n",
       "      <td>18.8</td>\n",
       "      <td>Non-Smoker</td>\n",
       "      <td>Yes</td>\n",
       "      <td>12287.21</td>\n",
       "    </tr>\n",
       "    <tr>\n",
       "      <th>4</th>\n",
       "      <td>62</td>\n",
       "      <td>38.8</td>\n",
       "      <td>Non-Smoker</td>\n",
       "      <td>Yes</td>\n",
       "      <td>8334.85</td>\n",
       "    </tr>\n",
       "  </tbody>\n",
       "</table>\n",
       "</div>"
      ],
      "text/plain": [
       "   Age   BMI SmokingStatus ChronicCondition  AnnualCost\n",
       "0   58  37.0    Non-Smoker              Yes     6725.12\n",
       "1   71  33.1        Smoker              Yes    17359.16\n",
       "2   48  28.2        Smoker              Yes     7259.34\n",
       "3   34  18.8    Non-Smoker              Yes    12287.21\n",
       "4   62  38.8    Non-Smoker              Yes     8334.85"
      ]
     },
     "execution_count": 663,
     "metadata": {},
     "output_type": "execute_result"
    }
   ],
   "source": [
    "costs = pd.read_csv(\"healthcare_costs.csv\")\n",
    "\n",
    "costs = costs.drop(['PatientID'],axis=1)\n",
    "\n",
    "costs_cp = costs.copy()\n",
    "costs_cp.head()"
   ]
  },
  {
   "cell_type": "markdown",
   "id": "aac9ebfb-8a74-4223-8be4-25dff8d4edb3",
   "metadata": {},
   "source": [
    "##### Since PatientID is just unique identifier and doesn't hold any value in modeling it could be dropped."
   ]
  },
  {
   "cell_type": "markdown",
   "id": "85ee116a-bf3b-4ac3-99d0-10058b267a8d",
   "metadata": {},
   "source": [
    "### Exploratory Data Analysis"
   ]
  },
  {
   "cell_type": "code",
   "execution_count": 581,
   "id": "4fabd417-02e6-4b40-ab94-67b53b9ca2d4",
   "metadata": {},
   "outputs": [
    {
     "data": {
      "text/plain": [
       "Age                 0\n",
       "BMI                 0\n",
       "SmokingStatus       0\n",
       "ChronicCondition    0\n",
       "AnnualCost          0\n",
       "dtype: int64"
      ]
     },
     "execution_count": 581,
     "metadata": {},
     "output_type": "execute_result"
    }
   ],
   "source": [
    "#check if there are any null values\n",
    "costs_cp.isna().sum().sort_values()"
   ]
  },
  {
   "cell_type": "code",
   "execution_count": 582,
   "id": "4e002861-1506-4b91-b794-e36f9ccfff9d",
   "metadata": {},
   "outputs": [
    {
     "data": {
      "text/html": [
       "<div>\n",
       "<style scoped>\n",
       "    .dataframe tbody tr th:only-of-type {\n",
       "        vertical-align: middle;\n",
       "    }\n",
       "\n",
       "    .dataframe tbody tr th {\n",
       "        vertical-align: top;\n",
       "    }\n",
       "\n",
       "    .dataframe thead th {\n",
       "        text-align: right;\n",
       "    }\n",
       "</style>\n",
       "<table border=\"1\" class=\"dataframe\">\n",
       "  <thead>\n",
       "    <tr style=\"text-align: right;\">\n",
       "      <th></th>\n",
       "      <th>Age</th>\n",
       "      <th>BMI</th>\n",
       "      <th>AnnualCost</th>\n",
       "    </tr>\n",
       "  </thead>\n",
       "  <tbody>\n",
       "    <tr>\n",
       "      <th>count</th>\n",
       "      <td>50.000000</td>\n",
       "      <td>50.000000</td>\n",
       "      <td>50.000000</td>\n",
       "    </tr>\n",
       "    <tr>\n",
       "      <th>mean</th>\n",
       "      <td>51.860000</td>\n",
       "      <td>29.260000</td>\n",
       "      <td>10081.385200</td>\n",
       "    </tr>\n",
       "    <tr>\n",
       "      <th>std</th>\n",
       "      <td>17.700467</td>\n",
       "      <td>6.101923</td>\n",
       "      <td>2575.747173</td>\n",
       "    </tr>\n",
       "    <tr>\n",
       "      <th>min</th>\n",
       "      <td>21.000000</td>\n",
       "      <td>18.800000</td>\n",
       "      <td>5150.220000</td>\n",
       "    </tr>\n",
       "    <tr>\n",
       "      <th>25%</th>\n",
       "      <td>40.000000</td>\n",
       "      <td>24.500000</td>\n",
       "      <td>8223.007500</td>\n",
       "    </tr>\n",
       "    <tr>\n",
       "      <th>50%</th>\n",
       "      <td>50.500000</td>\n",
       "      <td>29.900000</td>\n",
       "      <td>9978.370000</td>\n",
       "    </tr>\n",
       "    <tr>\n",
       "      <th>75%</th>\n",
       "      <td>67.500000</td>\n",
       "      <td>34.025000</td>\n",
       "      <td>11866.262500</td>\n",
       "    </tr>\n",
       "    <tr>\n",
       "      <th>max</th>\n",
       "      <td>79.000000</td>\n",
       "      <td>39.300000</td>\n",
       "      <td>17359.160000</td>\n",
       "    </tr>\n",
       "  </tbody>\n",
       "</table>\n",
       "</div>"
      ],
      "text/plain": [
       "             Age        BMI    AnnualCost\n",
       "count  50.000000  50.000000     50.000000\n",
       "mean   51.860000  29.260000  10081.385200\n",
       "std    17.700467   6.101923   2575.747173\n",
       "min    21.000000  18.800000   5150.220000\n",
       "25%    40.000000  24.500000   8223.007500\n",
       "50%    50.500000  29.900000   9978.370000\n",
       "75%    67.500000  34.025000  11866.262500\n",
       "max    79.000000  39.300000  17359.160000"
      ]
     },
     "execution_count": 582,
     "metadata": {},
     "output_type": "execute_result"
    }
   ],
   "source": [
    "#check for descriptive statistics\n",
    "costs_cp.describe()"
   ]
  },
  {
   "cell_type": "code",
   "execution_count": 583,
   "id": "218eb2c8-90a7-4d4d-8c07-b9d7f4aa408a",
   "metadata": {},
   "outputs": [
    {
     "name": "stdout",
     "output_type": "stream",
     "text": [
      "<class 'pandas.core.frame.DataFrame'>\n",
      "RangeIndex: 50 entries, 0 to 49\n",
      "Data columns (total 5 columns):\n",
      " #   Column            Non-Null Count  Dtype  \n",
      "---  ------            --------------  -----  \n",
      " 0   Age               50 non-null     int64  \n",
      " 1   BMI               50 non-null     float64\n",
      " 2   SmokingStatus     50 non-null     object \n",
      " 3   ChronicCondition  50 non-null     object \n",
      " 4   AnnualCost        50 non-null     float64\n",
      "dtypes: float64(2), int64(1), object(2)\n",
      "memory usage: 2.1+ KB\n"
     ]
    }
   ],
   "source": [
    "#check for datatypes\n",
    "costs_cp.info()"
   ]
  },
  {
   "cell_type": "code",
   "execution_count": 584,
   "id": "05729658-2774-4f16-b0c5-0359dd6efc43",
   "metadata": {},
   "outputs": [],
   "source": [
    "# costs_cp['logBMI'] = np.log1p(costs_cp['BMI'])\n",
    "# costs_cp['logAge'] = np.log1p(costs_cp['Age'])\n",
    "# costs_cp['logAnnualCost'] = np.log1p(costs_cp['AnnualCost'])"
   ]
  },
  {
   "cell_type": "markdown",
   "id": "5e20dccd-4e8e-4e38-914e-d88f9673b222",
   "metadata": {},
   "source": [
    "### Distribution of AnnualCost"
   ]
  },
  {
   "cell_type": "code",
   "execution_count": 586,
   "id": "4e8103d2-32e1-49d5-8550-edbf6713a5f5",
   "metadata": {},
   "outputs": [
    {
     "data": {
      "image/png": "[encoded data removed]",
      "text/plain": [
       "<Figure size 640x480 with 1 Axes>"
      ]
     },
     "metadata": {},
     "output_type": "display_data"
    }
   ],
   "source": [
    "sns.kdeplot(costs_cp['AnnualCost'])\n",
    "plt.savefig(\"annual_cost_distribution.png\", dpi=300)"
   ]
  },
  {
   "cell_type": "markdown",
   "id": "ecef4bd3-151b-46c6-a26d-fb35c8d3ae9b",
   "metadata": {},
   "source": [
    "##### Distribution is slightly right-skewed and the log transforamtion is not strictly necessary"
   ]
  },
  {
   "cell_type": "code",
   "execution_count": 588,
   "id": "9eef2709-847b-4909-9f27-738742b8457d",
   "metadata": {},
   "outputs": [
    {
     "data": {
      "image/png": "[encoded data removed]",
      "text/plain": [
       "<Figure size 640x480 with 1 Axes>"
      ]
     },
     "metadata": {},
     "output_type": "display_data"
    }
   ],
   "source": [
    "sns.kdeplot(costs_cp['logAnnualCost'])\n",
    "plt.savefig(\"log_annual_cost_distribution.png\", dpi=300)"
   ]
  },
  {
   "cell_type": "markdown",
   "id": "2f548931-e6a9-402c-b48f-21974fd4dcb3",
   "metadata": {},
   "source": [
    "### Distribution of Age"
   ]
  },
  {
   "cell_type": "code",
   "execution_count": 590,
   "id": "7fc533fb-582d-4730-9ba8-f5c954f79a8c",
   "metadata": {},
   "outputs": [
    {
     "data": {
      "image/png": "[encoded data removed]",
      "text/plain": [
       "<Figure size 640x480 with 1 Axes>"
      ]
     },
     "metadata": {},
     "output_type": "display_data"
    }
   ],
   "source": [
    "plt.hist('Age',data=costs_cp,bins=10, histtype='step')\n",
    "plt.show()"
   ]
  },
  {
   "cell_type": "markdown",
   "id": "89886cf3-602b-443e-b1ca-e7ab7f2ddd49",
   "metadata": {},
   "source": [
    "#### Age is not normally distributed"
   ]
  },
  {
   "cell_type": "markdown",
   "id": "f1699eb8-7ec6-42b5-8611-69e318a01a6a",
   "metadata": {},
   "source": [
    "### Age Vs BMI"
   ]
  },
  {
   "cell_type": "code",
   "execution_count": 593,
   "id": "f5824d13-7499-4848-844a-f78819be34b7",
   "metadata": {},
   "outputs": [
    {
     "data": {
      "image/png": "[encoded data removed]",
      "text/plain": [
       "<Figure size 640x480 with 1 Axes>"
      ]
     },
     "metadata": {},
     "output_type": "display_data"
    }
   ],
   "source": [
    "sns.scatterplot(x=\"Age\",y=\"BMI\", data=costs_cp)\n",
    "plt.show()"
   ]
  },
  {
   "cell_type": "markdown",
   "id": "bcbb182c-f309-451c-a6e7-39892d57bc35",
   "metadata": {},
   "source": [
    "#### weekly correlated (no correlation)"
   ]
  },
  {
   "cell_type": "code",
   "execution_count": 595,
   "id": "b58100b7-aa78-4e3e-97f4-b3f9a97b434f",
   "metadata": {},
   "outputs": [
    {
     "data": {
      "image/png": "[encoded data removed]",
      "text/plain": [
       "<Figure size 640x480 with 1 Axes>"
      ]
     },
     "metadata": {},
     "output_type": "display_data"
    }
   ],
   "source": [
    "sns.scatterplot(x=\"logAge\",y=\"logBMI\", data=costs_cp)\n",
    "plt.show()"
   ]
  },
  {
   "cell_type": "markdown",
   "id": "ae6b80ba-434b-4d50-84a3-3b323cc65e2e",
   "metadata": {},
   "source": [
    "##### There is no change in the relation between age and bmi after applying log transformation"
   ]
  },
  {
   "cell_type": "markdown",
   "id": "9f10fba0-d120-4830-88db-665a67ddf049",
   "metadata": {},
   "source": [
    "### Age Vs Annual Cost (Hue = SmokingStatus)"
   ]
  },
  {
   "cell_type": "code",
   "execution_count": 598,
   "id": "072ad439-f93a-485a-8ac1-35c7905bbe71",
   "metadata": {},
   "outputs": [
    {
     "data": {
      "image/png": "[encoded data removed]",
      "text/plain": [
       "<Figure size 640x480 with 1 Axes>"
      ]
     },
     "metadata": {},
     "output_type": "display_data"
    }
   ],
   "source": [
    "sns.scatterplot(x=\"Age\",y=\"AnnualCost\", hue='SmokingStatus', data=costs_cp)\n",
    "plt.show()"
   ]
  },
  {
   "cell_type": "markdown",
   "id": "f52a0fbf-7469-493f-b9ea-0158c45759fa",
   "metadata": {},
   "source": [
    "#### Slightly correlated with hue as SmokingStatus"
   ]
  },
  {
   "cell_type": "code",
   "execution_count": 600,
   "id": "4565c224-73c4-4440-b278-a2e34c0e25ac",
   "metadata": {},
   "outputs": [
    {
     "data": {
      "image/png": "[encoded data removed]",
      "text/plain": [
       "<Figure size 640x480 with 1 Axes>"
      ]
     },
     "metadata": {},
     "output_type": "display_data"
    }
   ],
   "source": [
    "sns.scatterplot(x=\"logAge\",y=\"logAnnualCost\", hue='SmokingStatus', data=costs_cp)\n",
    "plt.show()"
   ]
  },
  {
   "cell_type": "markdown",
   "id": "79772156-835e-4cb3-857b-420945089943",
   "metadata": {},
   "source": [
    "##### There is no change in the relation between annualcost and age after applying log transformation"
   ]
  },
  {
   "cell_type": "code",
   "execution_count": 602,
   "id": "2b668666-38b7-4efe-bfcd-ecaf1797c43c",
   "metadata": {},
   "outputs": [
    {
     "data": {
      "image/png": "[encoded data removed]",
      "text/plain": [
       "<Figure size 640x480 with 1 Axes>"
      ]
     },
     "metadata": {},
     "output_type": "display_data"
    }
   ],
   "source": [
    "sns.scatterplot(x=\"BMI\",y=\"AnnualCost\",hue=\"SmokingStatus\", data=costs_cp)\n",
    "plt.show()"
   ]
  },
  {
   "cell_type": "markdown",
   "id": "a2de4421-5b13-4e86-bcbc-eb841de748ab",
   "metadata": {},
   "source": [
    "#### there is no much of interpretation from the above graph"
   ]
  },
  {
   "cell_type": "code",
   "execution_count": 604,
   "id": "90e0addb-db94-416c-99ab-9e7c3546c473",
   "metadata": {},
   "outputs": [
    {
     "data": {
      "image/png": "[encoded data removed]",
      "text/plain": [
       "<Figure size 640x480 with 1 Axes>"
      ]
     },
     "metadata": {},
     "output_type": "display_data"
    }
   ],
   "source": [
    "sns.scatterplot(x=\"logBMI\",y=\"logAnnualCost\",hue=\"SmokingStatus\", data=costs_cp)\n",
    "plt.show()"
   ]
  },
  {
   "cell_type": "markdown",
   "id": "2081df02-b65f-4260-a91a-d99e96b5d010",
   "metadata": {},
   "source": [
    "##### There is no change in the relation between annualcost and bmi after applying log transformation"
   ]
  },
  {
   "cell_type": "markdown",
   "id": "737650d6-e504-4315-ba3b-4c0799b24dac",
   "metadata": {},
   "source": [
    "### Distribution of Smoking Status"
   ]
  },
  {
   "cell_type": "code",
   "execution_count": 607,
   "id": "5874f543-0328-4749-acd4-ee14b83fa20e",
   "metadata": {},
   "outputs": [
    {
     "data": {
      "image/png": "[encoded data removed]",
      "text/plain": [
       "<Figure size 640x480 with 1 Axes>"
      ]
     },
     "metadata": {},
     "output_type": "display_data"
    }
   ],
   "source": [
    "sns.countplot(data=costs_cp,x=\"SmokingStatus\", hue=\"SmokingStatus\")\n",
    "plt.show()"
   ]
  },
  {
   "cell_type": "markdown",
   "id": "affff4ec-5f3a-46c6-affb-6c980ab90462",
   "metadata": {},
   "source": [
    "#### Distribution is not overly Skewed (Smokers are more compared to Non-Smokers)"
   ]
  },
  {
   "cell_type": "markdown",
   "id": "62d72abb-708b-46e9-8685-8b06e848e801",
   "metadata": {},
   "source": [
    "### Distribution of ChronicCondtion"
   ]
  },
  {
   "cell_type": "code",
   "execution_count": 610,
   "id": "e4afeb12-4276-4014-93b2-c44c03fb3d02",
   "metadata": {},
   "outputs": [
    {
     "data": {
      "image/png": "[encoded data removed]",
      "text/plain": [
       "<Figure size 640x480 with 1 Axes>"
      ]
     },
     "metadata": {},
     "output_type": "display_data"
    }
   ],
   "source": [
    "sns.countplot(data=costs_cp,x=\"ChronicCondition\",hue=\"ChronicCondition\")\n",
    "plt.show()"
   ]
  },
  {
   "cell_type": "markdown",
   "id": "578b2e13-02f9-45d4-9aaf-4c35b3c153b8",
   "metadata": {},
   "source": [
    "#### Distribution is not overly Skewed (Yes are more compared to No in ChronicCondition Feature)"
   ]
  },
  {
   "cell_type": "markdown",
   "id": "c4e267c9-bb83-405c-8ff6-01148e3ad772",
   "metadata": {},
   "source": [
    "### Box Plot -  Checkfor an outliers in AnnualCost(Target Variable)"
   ]
  },
  {
   "cell_type": "code",
   "execution_count": 613,
   "id": "f38efaee-3038-4242-8d38-57c137978275",
   "metadata": {},
   "outputs": [
    {
     "data": {
      "image/png": "[encoded data removed]",
      "text/plain": [
       "<Figure size 640x480 with 1 Axes>"
      ]
     },
     "metadata": {},
     "output_type": "display_data"
    }
   ],
   "source": [
    "sns.boxplot(data=costs_cp, x=\"SmokingStatus\",y=\"AnnualCost\",hue=\"SmokingStatus\")\n",
    "plt.show()"
   ]
  },
  {
   "cell_type": "markdown",
   "id": "88e12453-e4d7-4a81-bd9b-6651a5c9fd84",
   "metadata": {},
   "source": [
    "#### AnnualCost is more when SmokingStatus is a Smoker"
   ]
  },
  {
   "cell_type": "code",
   "execution_count": 615,
   "id": "a24180ab-cbf5-41c1-ad59-c7914b168878",
   "metadata": {},
   "outputs": [
    {
     "data": {
      "image/png": "[encoded data removed]",
      "text/plain": [
       "<Figure size 640x480 with 1 Axes>"
      ]
     },
     "metadata": {},
     "output_type": "display_data"
    }
   ],
   "source": [
    "sns.boxplot(data=costs_cp, x=\"ChronicCondition\",y=\"AnnualCost\",hue=\"ChronicCondition\")\n",
    "plt.show()"
   ]
  },
  {
   "cell_type": "markdown",
   "id": "bd44e8b7-14c1-47ca-8c21-6f6cacee411b",
   "metadata": {},
   "source": [
    "#### AnnualCost is more when ChronicCondition is a Yes"
   ]
  },
  {
   "cell_type": "markdown",
   "id": "c88c8251-2d2d-4f24-88bb-d330b40ef0bd",
   "metadata": {},
   "source": [
    "### Distribution between Age and ChronicCondition"
   ]
  },
  {
   "cell_type": "code",
   "execution_count": 618,
   "id": "c59d2196-3d5e-4c15-9cda-9bd8478c9fea",
   "metadata": {},
   "outputs": [
    {
     "data": {
      "image/png": "[encoded data removed]",
      "text/plain": [
       "<Figure size 500x500 with 1 Axes>"
      ]
     },
     "metadata": {},
     "output_type": "display_data"
    }
   ],
   "source": [
    "sns.catplot(data=costs_cp, x=\"ChronicCondition\", y=\"Age\",kind=\"bar\",hue=\"ChronicCondition\")\n",
    "plt.show()"
   ]
  },
  {
   "cell_type": "markdown",
   "id": "f7f96c77-7357-4ef0-93f8-a62b39db4043",
   "metadata": {},
   "source": [
    "#### ChronicCondtion occurs is more in aged patients"
   ]
  },
  {
   "cell_type": "markdown",
   "id": "98d22186-37d2-4f9e-86a1-a7386fb349fc",
   "metadata": {},
   "source": [
    "### Bi-Variate Analysis (How does SmokingCondition and ChronicCondtion Relate with AnnualCost"
   ]
  },
  {
   "cell_type": "code",
   "execution_count": 621,
   "id": "7beec82c-c7d9-4b5a-a84e-0a220a711930",
   "metadata": {},
   "outputs": [
    {
     "data": {
      "image/png": "[encoded data removed]",
      "text/plain": [
       "<Figure size 1000x500 with 2 Axes>"
      ]
     },
     "metadata": {},
     "output_type": "display_data"
    }
   ],
   "source": [
    "sns.catplot(data=costs_cp, x=\"SmokingStatus\",y=\"AnnualCost\",col=\"ChronicCondition\",kind=\"box\",hue=\"SmokingStatus\")\n",
    "plt.show()"
   ]
  },
  {
   "cell_type": "markdown",
   "id": "9f68e59f-4885-465c-a58f-8e2e1bbd6dcb",
   "metadata": {},
   "source": [
    "#### When there is a chronicConditon and Patient is a Smoker, The AnnualCost is more \n",
    "\n",
    "###### The median AnnualCost for patients with SmokingCondtion='Smoker' and ChronicCondtion='Yes' is more compared to patients with SmokingCondtion='Smoker' and ChronicCondtion='No'"
   ]
  },
  {
   "cell_type": "markdown",
   "id": "dc840556-cea3-40b5-95e7-00166e403b21",
   "metadata": {},
   "source": [
    "### Statistics"
   ]
  },
  {
   "cell_type": "code",
   "execution_count": 624,
   "id": "48cfca24-3e44-4a16-8243-f00d4eb3ca77",
   "metadata": {},
   "outputs": [
    {
     "data": {
      "text/html": [
       "<div>\n",
       "<style scoped>\n",
       "    .dataframe tbody tr th:only-of-type {\n",
       "        vertical-align: middle;\n",
       "    }\n",
       "\n",
       "    .dataframe tbody tr th {\n",
       "        vertical-align: top;\n",
       "    }\n",
       "\n",
       "    .dataframe thead th {\n",
       "        text-align: right;\n",
       "    }\n",
       "</style>\n",
       "<table border=\"1\" class=\"dataframe\">\n",
       "  <thead>\n",
       "    <tr style=\"text-align: right;\">\n",
       "      <th></th>\n",
       "      <th>Age</th>\n",
       "      <th>BMI</th>\n",
       "      <th>AnnualCost</th>\n",
       "    </tr>\n",
       "  </thead>\n",
       "  <tbody>\n",
       "    <tr>\n",
       "      <th>Age</th>\n",
       "      <td>1.000000</td>\n",
       "      <td>-0.006628</td>\n",
       "      <td>0.262913</td>\n",
       "    </tr>\n",
       "    <tr>\n",
       "      <th>BMI</th>\n",
       "      <td>-0.006628</td>\n",
       "      <td>1.000000</td>\n",
       "      <td>-0.092863</td>\n",
       "    </tr>\n",
       "    <tr>\n",
       "      <th>AnnualCost</th>\n",
       "      <td>0.262913</td>\n",
       "      <td>-0.092863</td>\n",
       "      <td>1.000000</td>\n",
       "    </tr>\n",
       "  </tbody>\n",
       "</table>\n",
       "</div>"
      ],
      "text/plain": [
       "                 Age       BMI  AnnualCost\n",
       "Age         1.000000 -0.006628    0.262913\n",
       "BMI        -0.006628  1.000000   -0.092863\n",
       "AnnualCost  0.262913 -0.092863    1.000000"
      ]
     },
     "execution_count": 624,
     "metadata": {},
     "output_type": "execute_result"
    }
   ],
   "source": [
    "#check for correlation\n",
    "costs_cp[['Age', 'BMI', 'AnnualCost']].corr()"
   ]
  },
  {
   "cell_type": "markdown",
   "id": "53e273f2-5e59-4416-9e4d-f2f7420f3ad0",
   "metadata": {},
   "source": [
    "#### There is no correlation between Age and BMI, but slight correlation between Age and AnnualCost"
   ]
  },
  {
   "cell_type": "code",
   "execution_count": 626,
   "id": "91402a1c-87e3-48b7-93a3-3ac881a0d45a",
   "metadata": {},
   "outputs": [
    {
     "name": "stdout",
     "output_type": "stream",
     "text": [
      "         VIF feature\n",
      "0  33.414076   const\n",
      "1   1.000044     Age\n",
      "2   1.000044     BMI\n"
     ]
    }
   ],
   "source": [
    "#check for multi-collinearity\n",
    "from statsmodels.stats.outliers_influence import variance_inflation_factor\n",
    "import statsmodels.api as sm\n",
    "import pandas as pd\n",
    "\n",
    "X = sm.add_constant(costs_cp[['Age', 'BMI']])  # include constant/intercept\n",
    "vif = pd.DataFrame()\n",
    "vif[\"VIF\"] = [variance_inflation_factor(X.values, i) for i in range(X.shape[1])]\n",
    "vif[\"feature\"] = X.columns\n",
    "print(vif)"
   ]
  },
  {
   "cell_type": "markdown",
   "id": "54c3e859-cb05-4f2e-9f0f-9c69b9ebc07b",
   "metadata": {},
   "source": [
    "#### There is no multi-collinearity between Age and BMI since VIF is < 5\n",
    "\n",
    "##### VIF checks whether your predictors are redundant or highly correlated with each other, which can hurt your model stability.\n",
    "\n",
    "##### Target Variable(AnnualCost) Shouldn't be added as it will give invalid VIF"
   ]
  },
  {
   "cell_type": "markdown",
   "id": "48551cec-df5d-43b0-a601-874466994118",
   "metadata": {},
   "source": [
    "### Preprocessing the data"
   ]
  },
  {
   "cell_type": "markdown",
   "id": "f4c72910-a1a6-47cb-8d93-ce8107d5f5bd",
   "metadata": {},
   "source": [
    "#### Check for an outliers in annual costs"
   ]
  },
  {
   "cell_type": "code",
   "execution_count": 665,
   "id": "4008f710-de8e-4887-a679-be37e8aa7a38",
   "metadata": {},
   "outputs": [],
   "source": [
    "#get the quantiles and iqr for annualcosts to remove an outlier\n",
    "\n",
    "def remove_outliers(df,colname):\n",
    "    \n",
    "    seventy_fifth = np.quantile(df[colname],q=0.75)\n",
    "    twenty_fifth = np.quantile(df[colname],q=0.25)\n",
    "    iqr = seventy_fifth - twenty_fifth\n",
    "    \n",
    "    #get lower and upper boundaries\n",
    "    lower = twenty_fifth - (1.5*iqr)\n",
    "    upper = seventy_fifth + (1.5*iqr)\n",
    "    \n",
    "    df = df[(df[colname] > lower) & (df[colname] < upper)]\n",
    "    return df"
   ]
  },
  {
   "cell_type": "code",
   "execution_count": 667,
   "id": "2f49aa01-f8ca-43f9-b239-c438e2fb4059",
   "metadata": {},
   "outputs": [],
   "source": [
    "costs_cp = remove_outliers(costs_cp,'AnnualCost')\n",
    "costs_cp = remove_outliers(costs_cp,'BMI')"
   ]
  },
  {
   "cell_type": "code",
   "execution_count": 669,
   "id": "7530b060-7a34-4a2f-b1e3-49d66bc268d3",
   "metadata": {},
   "outputs": [],
   "source": [
    "#Feature Engineering to create Categories to train the model\n",
    "\n",
    "def create_categories(df,col_name,new_col_name,labels):\n",
    "\n",
    "    min_quantile = df[col_name].min()\n",
    "    twenty_fifth_quantile = np.quantile(a=df[col_name],q=0.25)\n",
    "    median_quantile = np.quantile(a=df[col_name],q=0.50)\n",
    "    seventy_fifth_quantile = np.quantile(a=df[col_name],q=0.75)\n",
    "    max_quantile = df[col_name].max()\n",
    "    \n",
    "    bins = [0, min_quantile, twenty_fifth_quantile, median_quantile, seventy_fifth_quantile, max_quantile]\n",
    "    df[new_col_name] = pd.cut(x=df[col_name],bins=bins,labels=labels)\n",
    "\n",
    "    return df"
   ]
  },
  {
   "cell_type": "code",
   "execution_count": 671,
   "id": "5c3c7b7f-fa86-4292-b126-5d99911ba624",
   "metadata": {},
   "outputs": [],
   "source": [
    "costs_cp = create_categories(costs_cp,col_name=\"AnnualCost\", new_col_name=\"CostCat\",labels=['Minimum','Least','Median','Upper-Median','Maximum'])\n",
    "costs_cp = create_categories(costs_cp,col_name=\"BMI\", new_col_name=\"BMICat\",labels=['L','ML','H','MH','VH'])\n",
    "costs_cp = create_categories(costs_cp,col_name='Age', new_col_name=\"AgeCat\", labels=['Very-Young','Young-Adult','Middle-Aged','Late-Middle-Age','Senior'])"
   ]
  },
  {
   "cell_type": "code",
   "execution_count": 673,
   "id": "44b4d83e-1a89-42c8-91ba-ac0eaadeeca9",
   "metadata": {},
   "outputs": [
    {
     "data": {
      "text/html": [
       "<div>\n",
       "<style scoped>\n",
       "    .dataframe tbody tr th:only-of-type {\n",
       "        vertical-align: middle;\n",
       "    }\n",
       "\n",
       "    .dataframe tbody tr th {\n",
       "        vertical-align: top;\n",
       "    }\n",
       "\n",
       "    .dataframe thead th {\n",
       "        text-align: right;\n",
       "    }\n",
       "</style>\n",
       "<table border=\"1\" class=\"dataframe\">\n",
       "  <thead>\n",
       "    <tr style=\"text-align: right;\">\n",
       "      <th></th>\n",
       "      <th>Age</th>\n",
       "      <th>BMI</th>\n",
       "      <th>SmokingStatus</th>\n",
       "      <th>ChronicCondition</th>\n",
       "      <th>AnnualCost</th>\n",
       "      <th>CostCat</th>\n",
       "      <th>BMICat</th>\n",
       "      <th>AgeCat</th>\n",
       "    </tr>\n",
       "  </thead>\n",
       "  <tbody>\n",
       "    <tr>\n",
       "      <th>0</th>\n",
       "      <td>58</td>\n",
       "      <td>37.0</td>\n",
       "      <td>Non-Smoker</td>\n",
       "      <td>Yes</td>\n",
       "      <td>6725.12</td>\n",
       "      <td>Least</td>\n",
       "      <td>VH</td>\n",
       "      <td>Late-Middle-Age</td>\n",
       "    </tr>\n",
       "    <tr>\n",
       "      <th>2</th>\n",
       "      <td>48</td>\n",
       "      <td>28.2</td>\n",
       "      <td>Smoker</td>\n",
       "      <td>Yes</td>\n",
       "      <td>7259.34</td>\n",
       "      <td>Least</td>\n",
       "      <td>H</td>\n",
       "      <td>Middle-Aged</td>\n",
       "    </tr>\n",
       "    <tr>\n",
       "      <th>3</th>\n",
       "      <td>34</td>\n",
       "      <td>18.8</td>\n",
       "      <td>Non-Smoker</td>\n",
       "      <td>Yes</td>\n",
       "      <td>12287.21</td>\n",
       "      <td>Maximum</td>\n",
       "      <td>L</td>\n",
       "      <td>Young-Adult</td>\n",
       "    </tr>\n",
       "    <tr>\n",
       "      <th>4</th>\n",
       "      <td>62</td>\n",
       "      <td>38.8</td>\n",
       "      <td>Non-Smoker</td>\n",
       "      <td>Yes</td>\n",
       "      <td>8334.85</td>\n",
       "      <td>Median</td>\n",
       "      <td>VH</td>\n",
       "      <td>Late-Middle-Age</td>\n",
       "    </tr>\n",
       "    <tr>\n",
       "      <th>5</th>\n",
       "      <td>27</td>\n",
       "      <td>30.6</td>\n",
       "      <td>Non-Smoker</td>\n",
       "      <td>Yes</td>\n",
       "      <td>8715.53</td>\n",
       "      <td>Median</td>\n",
       "      <td>MH</td>\n",
       "      <td>Young-Adult</td>\n",
       "    </tr>\n",
       "  </tbody>\n",
       "</table>\n",
       "</div>"
      ],
      "text/plain": [
       "   Age   BMI SmokingStatus ChronicCondition  AnnualCost  CostCat BMICat  \\\n",
       "0   58  37.0    Non-Smoker              Yes     6725.12    Least     VH   \n",
       "2   48  28.2        Smoker              Yes     7259.34    Least      H   \n",
       "3   34  18.8    Non-Smoker              Yes    12287.21  Maximum      L   \n",
       "4   62  38.8    Non-Smoker              Yes     8334.85   Median     VH   \n",
       "5   27  30.6    Non-Smoker              Yes     8715.53   Median     MH   \n",
       "\n",
       "            AgeCat  \n",
       "0  Late-Middle-Age  \n",
       "2      Middle-Aged  \n",
       "3      Young-Adult  \n",
       "4  Late-Middle-Age  \n",
       "5      Young-Adult  "
      ]
     },
     "execution_count": 673,
     "metadata": {},
     "output_type": "execute_result"
    }
   ],
   "source": [
    "costs_cp.head()"
   ]
  },
  {
   "cell_type": "markdown",
   "id": "b2dbe225-8181-4756-b289-e24bcb8a41bd",
   "metadata": {},
   "source": [
    "#### BMICategories & SmokingStatus Vs AnnualCost"
   ]
  },
  {
   "cell_type": "code",
   "execution_count": 53,
   "id": "d0ad51e8-076c-4478-aef2-202c89931979",
   "metadata": {},
   "outputs": [
    {
     "data": {
      "image/png": "[encoded data removed]",
      "text/plain": [
       "<Figure size 1000x500 with 2 Axes>"
      ]
     },
     "metadata": {},
     "output_type": "display_data"
    }
   ],
   "source": [
    "sns.catplot(data=costs_cp, x=\"BMICat\", y=\"AnnualCost\",col=\"SmokingStatus\",kind=\"box\",hue=\"BMICat\")\n",
    "plt.show()"
   ]
  },
  {
   "cell_type": "markdown",
   "id": "07ab5ace-30ed-4edc-bae9-83d51a33aef3",
   "metadata": {},
   "source": [
    "###### AnnualCost is lower for patients with ‘H’ BMI across both Non-Smokers and Smokers.\n",
    "###### AnnualCost is higher for patients with ‘VH’ and ‘L’ BMI among both Non-Smokers and Smokers."
   ]
  },
  {
   "cell_type": "markdown",
   "id": "f98b2522-9f63-4379-a1f4-576b97fe6106",
   "metadata": {},
   "source": [
    "#### BMICategories & AgeCategories Vs AnnualCost"
   ]
  },
  {
   "cell_type": "code",
   "execution_count": 56,
   "id": "18c7a42e-5e0e-4e7c-9f7a-5923656d84e3",
   "metadata": {},
   "outputs": [
    {
     "data": {
      "image/png": "[encoded data removed]",
      "text/plain": [
       "<Figure size 2662.75x500 with 5 Axes>"
      ]
     },
     "metadata": {},
     "output_type": "display_data"
    }
   ],
   "source": [
    "sns.catplot(data=costs_cp, x=\"BMICat\", y=\"AnnualCost\",col=\"AgeCat\",kind=\"bar\",hue=\"AgeCat\")\n",
    "plt.show()"
   ]
  },
  {
   "cell_type": "markdown",
   "id": "c56771f1-3981-4bd0-97ed-0c86e57c04a2",
   "metadata": {},
   "source": [
    "##### No Data: BMICategories 'L', 'ML', 'MH' for AgeCategories 'Very-Young' / BMICategories 'L' for AgeCategories 'Senior'"
   ]
  },
  {
   "cell_type": "markdown",
   "id": "34e0a3bf-c987-460c-84cd-eb9608d2509c",
   "metadata": {},
   "source": [
    "###### AnnualCost is highest for 'H' BMI category among Very Young, while 'VH' incurs the lowest.\n",
    "###### AnnualCost is highest for 'L' and 'VH' BMI categories among Young Adults, while 'MH' incurs the lowest.\n",
    "###### AnnualCost is highest for 'L' and 'MH' BMI categories among Middle-Aged individuals, while 'H' incurs the lowest.\n",
    "###### AnnualCost is highest for 'ML' and 'VH' BMI categories among Late Middle-Aged individuals, while 'MH' incurs the lowest.\n",
    "###### AnnualCost is highest for 'MH' and 'ML' BMI categories among Seniors, while 'H' incurs the lowest."
   ]
  },
  {
   "cell_type": "markdown",
   "id": "19daa27b-1d28-458f-aec8-0ef937735f7f",
   "metadata": {},
   "source": [
    "#### BMICategories & AgeCategories Vs AnnualCost"
   ]
  },
  {
   "cell_type": "code",
   "execution_count": 60,
   "id": "9009203a-8301-43d5-8db3-de0fb823ab54",
   "metadata": {},
   "outputs": [
    {
     "data": {
      "image/png": "[encoded data removed]",
      "text/plain": [
       "<Figure size 1130.24x500 with 2 Axes>"
      ]
     },
     "metadata": {},
     "output_type": "display_data"
    }
   ],
   "source": [
    "sns.catplot(data=costs_cp, x=\"BMICat\", y=\"AnnualCost\",col=\"ChronicCondition\",kind=\"bar\",hue=\"ChronicCondition\",col_order=['No','Yes'])\n",
    "plt.show()"
   ]
  },
  {
   "cell_type": "markdown",
   "id": "2857e19d-aa52-440f-bbfb-51d15bcadc59",
   "metadata": {},
   "source": [
    "###### AnnualCost is high for ‘L’/‘ML’ without Chronic Conditions, and ‘ML’/‘VH’ with Chronic Conditions.\n",
    "###### Annual cost is low for 'MH' without Chronic Conditions, and 'H' with Chronic Conditions."
   ]
  },
  {
   "cell_type": "markdown",
   "id": "40ec77ad-eb04-481f-8633-30da8c966b3a",
   "metadata": {},
   "source": [
    "#### Converting Categorical to numerical data"
   ]
  },
  {
   "cell_type": "code",
   "execution_count": 753,
   "id": "64b5db62-d943-4817-b8fa-9cb8556da0fe",
   "metadata": {},
   "outputs": [
    {
     "data": {
      "text/html": [
       "<div>\n",
       "<style scoped>\n",
       "    .dataframe tbody tr th:only-of-type {\n",
       "        vertical-align: middle;\n",
       "    }\n",
       "\n",
       "    .dataframe tbody tr th {\n",
       "        vertical-align: top;\n",
       "    }\n",
       "\n",
       "    .dataframe thead th {\n",
       "        text-align: right;\n",
       "    }\n",
       "</style>\n",
       "<table border=\"1\" class=\"dataframe\">\n",
       "  <thead>\n",
       "    <tr style=\"text-align: right;\">\n",
       "      <th></th>\n",
       "      <th>Age</th>\n",
       "      <th>BMI</th>\n",
       "      <th>AnnualCost</th>\n",
       "      <th>SmokingStatus_Smoker</th>\n",
       "      <th>ChronicCondition_Yes</th>\n",
       "      <th>CostCat_Least</th>\n",
       "      <th>CostCat_Median</th>\n",
       "      <th>CostCat_Upper-Median</th>\n",
       "      <th>CostCat_Maximum</th>\n",
       "      <th>BMICat_ML</th>\n",
       "      <th>BMICat_H</th>\n",
       "      <th>BMICat_MH</th>\n",
       "      <th>BMICat_VH</th>\n",
       "      <th>AgeCat_Young-Adult</th>\n",
       "      <th>AgeCat_Middle-Aged</th>\n",
       "      <th>AgeCat_Late-Middle-Age</th>\n",
       "      <th>AgeCat_Senior</th>\n",
       "    </tr>\n",
       "  </thead>\n",
       "  <tbody>\n",
       "    <tr>\n",
       "      <th>0</th>\n",
       "      <td>58</td>\n",
       "      <td>37.0</td>\n",
       "      <td>6725.12</td>\n",
       "      <td>0</td>\n",
       "      <td>1</td>\n",
       "      <td>1</td>\n",
       "      <td>0</td>\n",
       "      <td>0</td>\n",
       "      <td>0</td>\n",
       "      <td>0</td>\n",
       "      <td>0</td>\n",
       "      <td>0</td>\n",
       "      <td>1</td>\n",
       "      <td>0</td>\n",
       "      <td>0</td>\n",
       "      <td>1</td>\n",
       "      <td>0</td>\n",
       "    </tr>\n",
       "    <tr>\n",
       "      <th>2</th>\n",
       "      <td>48</td>\n",
       "      <td>28.2</td>\n",
       "      <td>7259.34</td>\n",
       "      <td>1</td>\n",
       "      <td>1</td>\n",
       "      <td>1</td>\n",
       "      <td>0</td>\n",
       "      <td>0</td>\n",
       "      <td>0</td>\n",
       "      <td>0</td>\n",
       "      <td>1</td>\n",
       "      <td>0</td>\n",
       "      <td>0</td>\n",
       "      <td>0</td>\n",
       "      <td>1</td>\n",
       "      <td>0</td>\n",
       "      <td>0</td>\n",
       "    </tr>\n",
       "    <tr>\n",
       "      <th>3</th>\n",
       "      <td>34</td>\n",
       "      <td>18.8</td>\n",
       "      <td>12287.21</td>\n",
       "      <td>0</td>\n",
       "      <td>1</td>\n",
       "      <td>0</td>\n",
       "      <td>0</td>\n",
       "      <td>0</td>\n",
       "      <td>1</td>\n",
       "      <td>0</td>\n",
       "      <td>0</td>\n",
       "      <td>0</td>\n",
       "      <td>0</td>\n",
       "      <td>1</td>\n",
       "      <td>0</td>\n",
       "      <td>0</td>\n",
       "      <td>0</td>\n",
       "    </tr>\n",
       "    <tr>\n",
       "      <th>4</th>\n",
       "      <td>62</td>\n",
       "      <td>38.8</td>\n",
       "      <td>8334.85</td>\n",
       "      <td>0</td>\n",
       "      <td>1</td>\n",
       "      <td>0</td>\n",
       "      <td>1</td>\n",
       "      <td>0</td>\n",
       "      <td>0</td>\n",
       "      <td>0</td>\n",
       "      <td>0</td>\n",
       "      <td>0</td>\n",
       "      <td>1</td>\n",
       "      <td>0</td>\n",
       "      <td>0</td>\n",
       "      <td>1</td>\n",
       "      <td>0</td>\n",
       "    </tr>\n",
       "    <tr>\n",
       "      <th>5</th>\n",
       "      <td>27</td>\n",
       "      <td>30.6</td>\n",
       "      <td>8715.53</td>\n",
       "      <td>0</td>\n",
       "      <td>1</td>\n",
       "      <td>0</td>\n",
       "      <td>1</td>\n",
       "      <td>0</td>\n",
       "      <td>0</td>\n",
       "      <td>0</td>\n",
       "      <td>0</td>\n",
       "      <td>1</td>\n",
       "      <td>0</td>\n",
       "      <td>1</td>\n",
       "      <td>0</td>\n",
       "      <td>0</td>\n",
       "      <td>0</td>\n",
       "    </tr>\n",
       "  </tbody>\n",
       "</table>\n",
       "</div>"
      ],
      "text/plain": [
       "   Age   BMI  AnnualCost  SmokingStatus_Smoker  ChronicCondition_Yes  \\\n",
       "0   58  37.0     6725.12                     0                     1   \n",
       "2   48  28.2     7259.34                     1                     1   \n",
       "3   34  18.8    12287.21                     0                     1   \n",
       "4   62  38.8     8334.85                     0                     1   \n",
       "5   27  30.6     8715.53                     0                     1   \n",
       "\n",
       "   CostCat_Least  CostCat_Median  CostCat_Upper-Median  CostCat_Maximum  \\\n",
       "0              1               0                     0                0   \n",
       "2              1               0                     0                0   \n",
       "3              0               0                     0                1   \n",
       "4              0               1                     0                0   \n",
       "5              0               1                     0                0   \n",
       "\n",
       "   BMICat_ML  BMICat_H  BMICat_MH  BMICat_VH  AgeCat_Young-Adult  \\\n",
       "0          0         0          0          1                   0   \n",
       "2          0         1          0          0                   0   \n",
       "3          0         0          0          0                   1   \n",
       "4          0         0          0          1                   0   \n",
       "5          0         0          1          0                   1   \n",
       "\n",
       "   AgeCat_Middle-Aged  AgeCat_Late-Middle-Age  AgeCat_Senior  \n",
       "0                   0                       1              0  \n",
       "2                   1                       0              0  \n",
       "3                   0                       0              0  \n",
       "4                   0                       1              0  \n",
       "5                   0                       0              0  "
      ]
     },
     "execution_count": 753,
     "metadata": {},
     "output_type": "execute_result"
    }
   ],
   "source": [
    "costs_cp = pd.get_dummies(costs_cp,columns=['SmokingStatus','ChronicCondition','CostCat','BMICat','AgeCat'],drop_first=True,dtype=int)\n",
    "costs_cp.head()"
   ]
  },
  {
   "cell_type": "markdown",
   "id": "f77c2055-772b-4385-9837-6c45ac8797f6",
   "metadata": {},
   "source": [
    "### Machine Learning Model (Regression)"
   ]
  },
  {
   "cell_type": "markdown",
   "id": "700a0937-2d40-429b-aefe-975962184b12",
   "metadata": {},
   "source": [
    "#### Linear Regression "
   ]
  },
  {
   "cell_type": "code",
   "execution_count": 757,
   "id": "d3363612-1248-4cc7-af0b-083f1d214bda",
   "metadata": {},
   "outputs": [
    {
     "data": {
      "text/plain": [
       "0.6244204279181095"
      ]
     },
     "execution_count": 757,
     "metadata": {},
     "output_type": "execute_result"
    }
   ],
   "source": [
    "X = costs_cp.drop(['Age','BMI','AnnualCost'],axis=1).values\n",
    "y = costs_cp['AnnualCost'].values\n",
    "X_train, X_test, y_train, y_test = train_test_split(X,y,test_size=0.3,random_state=42)\n",
    "\n",
    "lr = LinearRegression()\n",
    "lr.fit(X_train,y_train)\n",
    "y_pred = lr.predict(X_test)\n",
    "\n",
    "lin_r2_score = r2_score(y_test,y_pred)\n",
    "lin_r2_score"
   ]
  },
  {
   "cell_type": "markdown",
   "id": "3aaf2980-ea53-40bf-a8a7-177a833333bb",
   "metadata": {},
   "source": [
    "#### Decision Tree Regressor"
   ]
  },
  {
   "cell_type": "code",
   "execution_count": 759,
   "id": "81bab6b3-8be4-4470-a20f-4d8a1136a21f",
   "metadata": {},
   "outputs": [
    {
     "name": "stdout",
     "output_type": "stream",
     "text": [
      "{'max_depth': 3, 'min_samples_leaf': 2, 'random_state': 42} 0.7806295093800883\n"
     ]
    }
   ],
   "source": [
    "kf_dt = KFold(n_splits=4,shuffle=True,random_state=42)\n",
    "param_grid_dt = {\n",
    "                'max_depth':np.arange(1,10,1),\n",
    "                'min_samples_leaf':[1,2,4,6,8,10,20],\n",
    "                'random_state':[42]\n",
    "        }\n",
    "\n",
    "dt = DecisionTreeRegressor(random_state=42)\n",
    "dt_cv = GridSearchCV(estimator=dt,param_grid=param_grid_dt,cv=kf_dt)\n",
    "dt_cv.fit(X_train,y_train)\n",
    "print(dt_cv.best_params_, dt_cv.best_score_)"
   ]
  },
  {
   "cell_type": "code",
   "execution_count": 761,
   "id": "d8036d9e-9ec2-4c07-a750-99d7c4209c02",
   "metadata": {},
   "outputs": [
    {
     "data": {
      "text/plain": [
       "0.7857309827378012"
      ]
     },
     "execution_count": 761,
     "metadata": {},
     "output_type": "execute_result"
    }
   ],
   "source": [
    "test_score_dt = dt_cv.score(X_test,y_test)\n",
    "test_score_dt"
   ]
  },
  {
   "cell_type": "code",
   "execution_count": 765,
   "id": "11149d33-8984-4f62-8f11-30a7a96f64c9",
   "metadata": {},
   "outputs": [
    {
     "data": {
      "text/plain": [
       "0.7857309827378012"
      ]
     },
     "execution_count": 765,
     "metadata": {},
     "output_type": "execute_result"
    }
   ],
   "source": [
    "dt_best_model = dt_cv.best_estimator_\n",
    "dt_best_model.fit(X_train,y_train)\n",
    "y_pred_dt_best = dt_best_model.predict(X_test)\n",
    "dt_r2_score = r2_score(y_test,y_pred_dt_best)\n",
    "dt_r2_score"
   ]
  },
  {
   "cell_type": "markdown",
   "id": "21a3c644-5a81-459c-9469-ab5e582aa8cd",
   "metadata": {},
   "source": [
    "#### RandomForest Regressor"
   ]
  },
  {
   "cell_type": "code",
   "execution_count": 767,
   "id": "46ae85c7-caae-4f57-bdbd-2e942241a077",
   "metadata": {},
   "outputs": [
    {
     "name": "stdout",
     "output_type": "stream",
     "text": [
      "{'max_depth': 2, 'min_samples_leaf': 2, 'n_estimators': 500} 0.7273287050575712\n"
     ]
    }
   ],
   "source": [
    "kf_rf = KFold(n_splits=4,shuffle=True,random_state=42)\n",
    "param_grid_rf = {\n",
    "                'max_depth':np.arange(1,10,1),\n",
    "                'min_samples_leaf': [1,2,4,6,8,10,20],\n",
    "                'n_estimators': [100,200,300,500],\n",
    "        }\n",
    "\n",
    "rf = RandomForestRegressor(random_state=42)\n",
    "rf_cv = GridSearchCV(estimator=rf,param_grid=param_grid_rf,cv=kf_rf)\n",
    "rf_cv.fit(X_train,y_train)\n",
    "print(rf_cv.best_params_, rf_cv.best_score_)"
   ]
  },
  {
   "cell_type": "code",
   "execution_count": 769,
   "id": "bfcb6608-ceb3-47ee-9da8-455ae588d62a",
   "metadata": {},
   "outputs": [
    {
     "data": {
      "text/plain": [
       "0.7730938270498591"
      ]
     },
     "execution_count": 769,
     "metadata": {},
     "output_type": "execute_result"
    }
   ],
   "source": [
    "test_score_rf = rf_cv.score(X_test,y_test)\n",
    "test_score_rf"
   ]
  },
  {
   "cell_type": "code",
   "execution_count": 773,
   "id": "ca76bdd9-60f7-43f1-a9ea-cb6294f61da6",
   "metadata": {},
   "outputs": [
    {
     "data": {
      "text/plain": [
       "0.7730938270498591"
      ]
     },
     "execution_count": 773,
     "metadata": {},
     "output_type": "execute_result"
    }
   ],
   "source": [
    "rf_best_model = rf_cv.best_estimator_\n",
    "rf_best_model.fit(X_train,y_train)\n",
    "y_pred_rf_best = rf_best_model.predict(X_test)\n",
    "rf_r2_score = r2_score(y_test,y_pred_rf_best)\n",
    "rf_r2_score"
   ]
  },
  {
   "cell_type": "markdown",
   "id": "b446b16f-7b5d-4d77-bfd8-6fe44d03e55d",
   "metadata": {},
   "source": [
    "#### AdaBoost Regressor"
   ]
  },
  {
   "cell_type": "code",
   "execution_count": 775,
   "id": "b34b4700-7b85-4cee-a6f5-00de813363fe",
   "metadata": {},
   "outputs": [
    {
     "name": "stdout",
     "output_type": "stream",
     "text": [
      "{'learning_rate': 0.01, 'n_estimators': 500, 'random_state': 42} 0.6915848329791274\n"
     ]
    }
   ],
   "source": [
    "kf_ad = KFold(n_splits=4,shuffle=True,random_state=42)\n",
    "param_grid_ad = {\n",
    "                'learning_rate': [0.01, 0.05, 0.1, 0.3, 0.5, 0.7, 1.0],\n",
    "                'n_estimators': [100,200,300,500],\n",
    "                'random_state':[42]\n",
    "        }\n",
    "\n",
    "ad = AdaBoostRegressor(random_state=42)\n",
    "ad_cv = GridSearchCV(estimator=ad,param_grid=param_grid_ad,cv=kf_ad)\n",
    "ad_cv.fit(X_train,y_train)\n",
    "print(ad_cv.best_params_, ad_cv.best_score_)"
   ]
  },
  {
   "cell_type": "code",
   "execution_count": 777,
   "id": "c01d48e1-207a-4c6d-ab7b-92241998533e",
   "metadata": {},
   "outputs": [
    {
     "data": {
      "text/plain": [
       "0.7788829940942299"
      ]
     },
     "execution_count": 777,
     "metadata": {},
     "output_type": "execute_result"
    }
   ],
   "source": [
    "test_score_ad = ad_cv.score(X_test,y_test)\n",
    "test_score_ad"
   ]
  },
  {
   "cell_type": "code",
   "execution_count": 781,
   "id": "f890e432-a400-4a4f-a048-a9b9d32f5e40",
   "metadata": {},
   "outputs": [
    {
     "data": {
      "text/plain": [
       "0.7788829940942299"
      ]
     },
     "execution_count": 781,
     "metadata": {},
     "output_type": "execute_result"
    }
   ],
   "source": [
    "ad_best_model = ad_cv.best_estimator_\n",
    "ad_best_model.fit(X_train,y_train)\n",
    "y_pred_ad_best = ad_best_model.predict(X_test)\n",
    "ada_r2_score = r2_score(y_test,y_pred_ad_best)\n",
    "ada_r2_score"
   ]
  },
  {
   "cell_type": "markdown",
   "id": "2fbfab2d-20a0-439f-9ac9-8719b8156d89",
   "metadata": {},
   "source": [
    "#### GradientBoosting Regressor"
   ]
  },
  {
   "cell_type": "code",
   "execution_count": 783,
   "id": "03215168-c030-4883-8cf4-2fcdb8b90dfd",
   "metadata": {},
   "outputs": [
    {
     "name": "stdout",
     "output_type": "stream",
     "text": [
      "{'learning_rate': 0.05, 'max_depth': 1, 'min_samples_leaf': 1, 'n_estimators': 100, 'random_state': 42} 0.775126853041687\n"
     ]
    }
   ],
   "source": [
    "kf_gb = KFold(n_splits=4,shuffle=True,random_state=42)\n",
    "param_grid_gb = {\n",
    "                'learning_rate': [0.01, 0.05, 0.1],\n",
    "                'n_estimators': [100,200,300,500],\n",
    "                'random_state':[42],\n",
    "                'max_depth':np.arange(1,5,1),\n",
    "                'min_samples_leaf': [1,2,4,6,8,10,20]\n",
    "        }\n",
    "\n",
    "gb = GradientBoostingRegressor(random_state=42)\n",
    "gb_cv = GridSearchCV(estimator=gb,param_grid=param_grid_gb,cv=kf_gb)\n",
    "gb_cv.fit(X_train,y_train)\n",
    "print(gb_cv.best_params_, gb_cv.best_score_)"
   ]
  },
  {
   "cell_type": "code",
   "execution_count": 785,
   "id": "fc9ed44d-ebef-47c3-a8e5-ef2a4b7db57b",
   "metadata": {},
   "outputs": [
    {
     "data": {
      "text/plain": [
       "0.792656836730765"
      ]
     },
     "execution_count": 785,
     "metadata": {},
     "output_type": "execute_result"
    }
   ],
   "source": [
    "test_score_gb = gb_cv.score(X_test,y_test)\n",
    "test_score_gb"
   ]
  },
  {
   "cell_type": "code",
   "execution_count": 787,
   "id": "4bca142b-e8a7-467d-8315-c4a20b157847",
   "metadata": {},
   "outputs": [
    {
     "data": {
      "text/plain": [
       "0.792656836730765"
      ]
     },
     "execution_count": 787,
     "metadata": {},
     "output_type": "execute_result"
    }
   ],
   "source": [
    "gb_best_model = gb_cv.best_estimator_\n",
    "gb_best_model.fit(X_train,y_train)\n",
    "y_pred_gb_best = gb_best_model.predict(X_test)\n",
    "gb_r2_score = r2_score(y_test,y_pred_gb_best)\n",
    "gb_r2_score"
   ]
  },
  {
   "cell_type": "markdown",
   "id": "56079254-6b8c-41da-b0ca-04197dbbd037",
   "metadata": {},
   "source": [
    "#### Stochastic GradientBoosting"
   ]
  },
  {
   "cell_type": "code",
   "execution_count": 789,
   "id": "98d62e13-8590-45f5-8c00-7fe7d8a7d60e",
   "metadata": {},
   "outputs": [
    {
     "name": "stdout",
     "output_type": "stream",
     "text": [
      "{'learning_rate': 0.1, 'max_depth': 1, 'max_features': 0.5, 'min_samples_leaf': 1, 'n_estimators': 500, 'random_state': 42, 'subsample': 0.2} 0.7515144567588914\n"
     ]
    }
   ],
   "source": [
    "kf_sgb = KFold(n_splits=4,shuffle=True,random_state=42)\n",
    "param_grid_sgb = {\n",
    "                'learning_rate': [0.01, 0.05, 0.1],\n",
    "                'subsample':np.linspace(0.1,0.8,8),\n",
    "                'n_estimators': [100,200,300,500],\n",
    "                'max_features':[0.1,0.2,0.3,0.4,0.5],\n",
    "                'random_state':[42],\n",
    "                'max_depth':np.arange(1,5,1),\n",
    "                'min_samples_leaf': [1,2,4,6,8,10,20]\n",
    "        }\n",
    "\n",
    "sgb = GradientBoostingRegressor(random_state=42)\n",
    "sgb_cv = GridSearchCV(estimator=sgb,param_grid=param_grid_sgb,cv=kf_sgb)\n",
    "sgb_cv.fit(X_train,y_train)\n",
    "print(sgb_cv.best_params_, sgb_cv.best_score_)"
   ]
  },
  {
   "cell_type": "code",
   "execution_count": 791,
   "id": "1e63ee63-8f74-456c-b5a9-5170d0956964",
   "metadata": {},
   "outputs": [
    {
     "data": {
      "text/plain": [
       "0.7574058997364855"
      ]
     },
     "execution_count": 791,
     "metadata": {},
     "output_type": "execute_result"
    }
   ],
   "source": [
    "test_score_sgb = sgb_cv.score(X_test,y_test)\n",
    "test_score_sgb"
   ]
  },
  {
   "cell_type": "code",
   "execution_count": 795,
   "id": "94f6f2e9-8570-4cd2-b2f8-514140497a12",
   "metadata": {},
   "outputs": [
    {
     "data": {
      "text/plain": [
       "0.7574058997364855"
      ]
     },
     "execution_count": 795,
     "metadata": {},
     "output_type": "execute_result"
    }
   ],
   "source": [
    "sgb_best_model = sgb_cv.best_estimator_\n",
    "sgb_best_model.fit(X_train,y_train)\n",
    "y_pred_sgb_best = sgb_best_model.predict(X_test)\n",
    "sgb_r2_score = r2_score(y_test,y_pred_sgb_best)\n",
    "sgb_r2_score"
   ]
  },
  {
   "cell_type": "code",
   "execution_count": 797,
   "id": "013acaa4-dbe5-46de-bd6f-239aec7e5a58",
   "metadata": {},
   "outputs": [],
   "source": [
    "r2_scores = pd.DataFrame({'models':['lin_reg','decisionT','RandomF','AdaBoost','GradientBoost','StochGradBoost'],\n",
    "            'R2_scores':[lin_r2_score,dt_r2_score,rf_r2_score,ada_r2_score,gb_r2_score,sgb_r2_score]})"
   ]
  },
  {
   "cell_type": "code",
   "execution_count": 799,
   "id": "86122d69-6acc-4925-a91f-4eaf5933b6ac",
   "metadata": {},
   "outputs": [
    {
     "data": {
      "text/html": [
       "<div>\n",
       "<style scoped>\n",
       "    .dataframe tbody tr th:only-of-type {\n",
       "        vertical-align: middle;\n",
       "    }\n",
       "\n",
       "    .dataframe tbody tr th {\n",
       "        vertical-align: top;\n",
       "    }\n",
       "\n",
       "    .dataframe thead th {\n",
       "        text-align: right;\n",
       "    }\n",
       "</style>\n",
       "<table border=\"1\" class=\"dataframe\">\n",
       "  <thead>\n",
       "    <tr style=\"text-align: right;\">\n",
       "      <th></th>\n",
       "      <th>models</th>\n",
       "      <th>R2_scores</th>\n",
       "    </tr>\n",
       "  </thead>\n",
       "  <tbody>\n",
       "    <tr>\n",
       "      <th>4</th>\n",
       "      <td>GradientBoost</td>\n",
       "      <td>0.792657</td>\n",
       "    </tr>\n",
       "    <tr>\n",
       "      <th>1</th>\n",
       "      <td>decisionT</td>\n",
       "      <td>0.785731</td>\n",
       "    </tr>\n",
       "    <tr>\n",
       "      <th>3</th>\n",
       "      <td>AdaBoost</td>\n",
       "      <td>0.778883</td>\n",
       "    </tr>\n",
       "    <tr>\n",
       "      <th>2</th>\n",
       "      <td>RandomF</td>\n",
       "      <td>0.773094</td>\n",
       "    </tr>\n",
       "    <tr>\n",
       "      <th>5</th>\n",
       "      <td>StochGradBoost</td>\n",
       "      <td>0.757406</td>\n",
       "    </tr>\n",
       "    <tr>\n",
       "      <th>0</th>\n",
       "      <td>lin_reg</td>\n",
       "      <td>0.624420</td>\n",
       "    </tr>\n",
       "  </tbody>\n",
       "</table>\n",
       "</div>"
      ],
      "text/plain": [
       "           models  R2_scores\n",
       "4   GradientBoost   0.792657\n",
       "1       decisionT   0.785731\n",
       "3        AdaBoost   0.778883\n",
       "2         RandomF   0.773094\n",
       "5  StochGradBoost   0.757406\n",
       "0         lin_reg   0.624420"
      ]
     },
     "execution_count": 799,
     "metadata": {},
     "output_type": "execute_result"
    }
   ],
   "source": [
    "r2_scores.sort_values(by='R2_scores',ascending=False)"
   ]
  },
  {
   "cell_type": "code",
   "execution_count": 801,
   "id": "5be4946d-4a08-4ab5-bb91-bc4e51509ea0",
   "metadata": {},
   "outputs": [],
   "source": [
    "param_grids = {\n",
    "               'DecisionTree':{\n",
    "                   'max_depth':np.arange(1,10,1),\n",
    "                   'min_samples_leaf':[1,2,4,6,8,10,20],\n",
    "                   'random_state':[42]\n",
    "               },\n",
    "               'RandomForest':{\n",
    "                   'max_depth':np.arange(1,10,1),\n",
    "                   'min_samples_leaf': [1,2,4,6,8,10,20],\n",
    "                   'n_estimators': [100,200,300,500],\n",
    "                   'random_state':[42]\n",
    "               },\n",
    "               'AdaBoost':{\n",
    "                   'learning_rate': [0.01, 0.05, 0.1, 0.3, 0.5, 0.7, 1.0],\n",
    "                   'n_estimators': [100,200,300,500],\n",
    "                   'random_state':[42]  \n",
    "               },\n",
    "               'GradientBoosting':{\n",
    "                   'learning_rate': [0.01, 0.05, 0.1],\n",
    "                   'n_estimators': [100,200,300,500],\n",
    "                   'random_state':[42],\n",
    "                   'max_depth':np.arange(1,5,1),\n",
    "                   'min_samples_leaf': [1,2,4,6,8,10,20]\n",
    "               },\n",
    "               'SGD':{\n",
    "                   'learning_rate': [0.01, 0.05, 0.1],\n",
    "                   'subsample':np.linspace(0.1,0.8,8),\n",
    "                   'n_estimators': [100,200,300,500],\n",
    "                   'max_features':[0.1,0.2,0.3,0.4,0.5],\n",
    "                   'random_state':[42],\n",
    "                   'max_depth':np.arange(1,5,1),\n",
    "                   'min_samples_leaf': [1,2,4,6,8,10,20]\n",
    "               }}"
   ]
  },
  {
   "cell_type": "markdown",
   "id": "7d7fc400-6cc4-463f-888e-afdf0d6c3473",
   "metadata": {},
   "source": [
    "### Utility Function"
   ]
  },
  {
   "cell_type": "code",
   "execution_count": 803,
   "id": "22b07d1d-e431-42dc-9a14-baa16c655f4d",
   "metadata": {},
   "outputs": [],
   "source": [
    "def Model_Training(X_train, y_train, X_test, y_test, model_names, param_grids=None):\n",
    "    models = {\n",
    "        'LinearRegression': LinearRegression(),\n",
    "        'DecisionTree': DecisionTreeRegressor(),\n",
    "        'RandomForest': RandomForestRegressor(),\n",
    "        'AdaBoost': AdaBoostRegressor(),\n",
    "        'GradientBoosting': GradientBoostingRegressor(),\n",
    "        'SGD': GradientBoostingRegressor()\n",
    "    }\n",
    "\n",
    "    results = []\n",
    "\n",
    "    for model_name in model_names:\n",
    "        model = models.get(model_name)\n",
    "        print(model_name)\n",
    "        if model is None:\n",
    "            print(f\"Model '{model_name}' not recognized. Skipping.\")\n",
    "            continue\n",
    "\n",
    "\n",
    "        # If model has no parameters or not in param_grids - direct fit\n",
    "        if param_grids is None or model_name not in param_grids:\n",
    "            model.fit(X_train, y_train)\n",
    "            y_pred = model.predict(X_test)\n",
    "            r2 = r2_score(y_test, y_pred)\n",
    "\n",
    "            results.append({\n",
    "                'Model': model_name,\n",
    "                'BestParams': None,\n",
    "                'CV_R2_Score': None,\n",
    "                'Test_R2_Score': r2\n",
    "            })\n",
    "        else:\n",
    "            param_grid = param_grids[model_name]\n",
    "            kf = KFold(n_splits=4, shuffle=True, random_state=42)\n",
    "            grid = GridSearchCV(estimator=model, param_grid=param_grid, cv=kf)\n",
    "            grid.fit(X_train, y_train)\n",
    "\n",
    "            best_model = grid.best_estimator_\n",
    "            best_cv_r2 = grid.best_score_\n",
    "            test_r2 = r2_score(y_test, best_model.predict(X_test))\n",
    "\n",
    "            results.append({\n",
    "                'Model': model_name,\n",
    "                'BestParams': grid.best_params_,\n",
    "                'CV_R2_Score': best_cv_r2,\n",
    "                'Test_R2_Score': test_r2\n",
    "            })\n",
    "\n",
    "    return pd.DataFrame(results)"
   ]
  },
  {
   "cell_type": "code",
   "execution_count": 805,
   "id": "99063127-877b-4811-8d76-94766c423848",
   "metadata": {},
   "outputs": [
    {
     "name": "stdout",
     "output_type": "stream",
     "text": [
      "LinearRegression\n",
      "DecisionTree\n",
      "RandomForest\n",
      "AdaBoost\n",
      "GradientBoosting\n",
      "SGD\n"
     ]
    }
   ],
   "source": [
    "X = costs_cp.drop(['Age','BMI','AnnualCost'],axis=1).values\n",
    "y = costs_cp['AnnualCost'].values\n",
    "X_train, X_test, y_train, y_test = train_test_split(X,y,test_size=0.3,random_state=42)\n",
    "\n",
    "results_df = Model_Training(X_train, y_train, X_test, y_test, model_names=['LinearRegression','DecisionTree',\n",
    "                                                                           'RandomForest','AdaBoost','GradientBoosting','SGD'], \n",
    "                            param_grids=param_grids)"
   ]
  },
  {
   "cell_type": "code",
   "execution_count": 807,
   "id": "bc64962e-a02b-4262-a000-c51bfcf73d91",
   "metadata": {},
   "outputs": [
    {
     "data": {
      "text/html": [
       "<div>\n",
       "<style scoped>\n",
       "    .dataframe tbody tr th:only-of-type {\n",
       "        vertical-align: middle;\n",
       "    }\n",
       "\n",
       "    .dataframe tbody tr th {\n",
       "        vertical-align: top;\n",
       "    }\n",
       "\n",
       "    .dataframe thead th {\n",
       "        text-align: right;\n",
       "    }\n",
       "</style>\n",
       "<table border=\"1\" class=\"dataframe\">\n",
       "  <thead>\n",
       "    <tr style=\"text-align: right;\">\n",
       "      <th></th>\n",
       "      <th>Model</th>\n",
       "      <th>BestParams</th>\n",
       "      <th>CV_R2_Score</th>\n",
       "      <th>Test_R2_Score</th>\n",
       "    </tr>\n",
       "  </thead>\n",
       "  <tbody>\n",
       "    <tr>\n",
       "      <th>4</th>\n",
       "      <td>GradientBoosting</td>\n",
       "      <td>{'learning_rate': 0.05, 'max_depth': 1, 'min_s...</td>\n",
       "      <td>0.775127</td>\n",
       "      <td>0.792657</td>\n",
       "    </tr>\n",
       "    <tr>\n",
       "      <th>1</th>\n",
       "      <td>DecisionTree</td>\n",
       "      <td>{'max_depth': 3, 'min_samples_leaf': 2, 'rando...</td>\n",
       "      <td>0.780630</td>\n",
       "      <td>0.785731</td>\n",
       "    </tr>\n",
       "    <tr>\n",
       "      <th>3</th>\n",
       "      <td>AdaBoost</td>\n",
       "      <td>{'learning_rate': 0.01, 'n_estimators': 500, '...</td>\n",
       "      <td>0.691585</td>\n",
       "      <td>0.778883</td>\n",
       "    </tr>\n",
       "    <tr>\n",
       "      <th>2</th>\n",
       "      <td>RandomForest</td>\n",
       "      <td>{'max_depth': 2, 'min_samples_leaf': 2, 'n_est...</td>\n",
       "      <td>0.727329</td>\n",
       "      <td>0.773094</td>\n",
       "    </tr>\n",
       "    <tr>\n",
       "      <th>5</th>\n",
       "      <td>SGD</td>\n",
       "      <td>{'learning_rate': 0.1, 'max_depth': 1, 'max_fe...</td>\n",
       "      <td>0.751514</td>\n",
       "      <td>0.757406</td>\n",
       "    </tr>\n",
       "    <tr>\n",
       "      <th>0</th>\n",
       "      <td>LinearRegression</td>\n",
       "      <td>None</td>\n",
       "      <td>NaN</td>\n",
       "      <td>0.624420</td>\n",
       "    </tr>\n",
       "  </tbody>\n",
       "</table>\n",
       "</div>"
      ],
      "text/plain": [
       "              Model                                         BestParams  \\\n",
       "4  GradientBoosting  {'learning_rate': 0.05, 'max_depth': 1, 'min_s...   \n",
       "1      DecisionTree  {'max_depth': 3, 'min_samples_leaf': 2, 'rando...   \n",
       "3          AdaBoost  {'learning_rate': 0.01, 'n_estimators': 500, '...   \n",
       "2      RandomForest  {'max_depth': 2, 'min_samples_leaf': 2, 'n_est...   \n",
       "5               SGD  {'learning_rate': 0.1, 'max_depth': 1, 'max_fe...   \n",
       "0  LinearRegression                                               None   \n",
       "\n",
       "   CV_R2_Score  Test_R2_Score  \n",
       "4     0.775127       0.792657  \n",
       "1     0.780630       0.785731  \n",
       "3     0.691585       0.778883  \n",
       "2     0.727329       0.773094  \n",
       "5     0.751514       0.757406  \n",
       "0          NaN       0.624420  "
      ]
     },
     "execution_count": 807,
     "metadata": {},
     "output_type": "execute_result"
    }
   ],
   "source": [
    "results_df.sort_values(by=\"Test_R2_Score\",ascending=False)"
   ]
  },
  {
   "cell_type": "markdown",
   "id": "2fa4310e-822e-486d-9c8a-33fbe4c9064e",
   "metadata": {},
   "source": [
    "#### Model with less engineered features "
   ]
  },
  {
   "cell_type": "code",
   "execution_count": 172,
   "id": "5a1ee098-445d-40a4-9fae-3f35a0c62d92",
   "metadata": {},
   "outputs": [
    {
     "data": {
      "text/html": [
       "<div>\n",
       "<style scoped>\n",
       "    .dataframe tbody tr th:only-of-type {\n",
       "        vertical-align: middle;\n",
       "    }\n",
       "\n",
       "    .dataframe tbody tr th {\n",
       "        vertical-align: top;\n",
       "    }\n",
       "\n",
       "    .dataframe thead th {\n",
       "        text-align: right;\n",
       "    }\n",
       "</style>\n",
       "<table border=\"1\" class=\"dataframe\">\n",
       "  <thead>\n",
       "    <tr style=\"text-align: right;\">\n",
       "      <th></th>\n",
       "      <th>Age</th>\n",
       "      <th>BMI</th>\n",
       "      <th>SmokingStatus</th>\n",
       "      <th>ChronicCondition</th>\n",
       "      <th>AnnualCost</th>\n",
       "    </tr>\n",
       "  </thead>\n",
       "  <tbody>\n",
       "    <tr>\n",
       "      <th>0</th>\n",
       "      <td>58</td>\n",
       "      <td>37.0</td>\n",
       "      <td>Non-Smoker</td>\n",
       "      <td>Yes</td>\n",
       "      <td>6725.12</td>\n",
       "    </tr>\n",
       "    <tr>\n",
       "      <th>1</th>\n",
       "      <td>71</td>\n",
       "      <td>33.1</td>\n",
       "      <td>Smoker</td>\n",
       "      <td>Yes</td>\n",
       "      <td>17359.16</td>\n",
       "    </tr>\n",
       "  </tbody>\n",
       "</table>\n",
       "</div>"
      ],
      "text/plain": [
       "   Age   BMI SmokingStatus ChronicCondition  AnnualCost\n",
       "0   58  37.0    Non-Smoker              Yes     6725.12\n",
       "1   71  33.1        Smoker              Yes    17359.16"
      ]
     },
     "execution_count": 172,
     "metadata": {},
     "output_type": "execute_result"
    }
   ],
   "source": [
    "costs_1 = costs.copy()\n",
    "#costs_1 = costs_1.drop(['PatientID'],axis=1)\n",
    "costs_1.head(2)"
   ]
  },
  {
   "cell_type": "code",
   "execution_count": 174,
   "id": "c2293a7f-041c-4550-9bd4-8fa53e9a3b7b",
   "metadata": {},
   "outputs": [
    {
     "data": {
      "text/plain": [
       "(49, 5)"
      ]
     },
     "execution_count": 174,
     "metadata": {},
     "output_type": "execute_result"
    }
   ],
   "source": [
    "costs_1 = remove_outliers(costs_1,'AnnualCost')\n",
    "costs_1 = remove_outliers(costs_1,'BMI')\n",
    "costs_1.shape"
   ]
  },
  {
   "cell_type": "code",
   "execution_count": 176,
   "id": "ebcde739-11e1-4e72-b4e0-08c436bef255",
   "metadata": {},
   "outputs": [
    {
     "data": {
      "text/html": [
       "<div>\n",
       "<style scoped>\n",
       "    .dataframe tbody tr th:only-of-type {\n",
       "        vertical-align: middle;\n",
       "    }\n",
       "\n",
       "    .dataframe tbody tr th {\n",
       "        vertical-align: top;\n",
       "    }\n",
       "\n",
       "    .dataframe thead th {\n",
       "        text-align: right;\n",
       "    }\n",
       "</style>\n",
       "<table border=\"1\" class=\"dataframe\">\n",
       "  <thead>\n",
       "    <tr style=\"text-align: right;\">\n",
       "      <th></th>\n",
       "      <th>Age</th>\n",
       "      <th>BMI</th>\n",
       "      <th>AnnualCost</th>\n",
       "      <th>SmokingStatus_Smoker</th>\n",
       "      <th>ChronicCondition_Yes</th>\n",
       "    </tr>\n",
       "  </thead>\n",
       "  <tbody>\n",
       "    <tr>\n",
       "      <th>0</th>\n",
       "      <td>58</td>\n",
       "      <td>37.0</td>\n",
       "      <td>6725.12</td>\n",
       "      <td>0</td>\n",
       "      <td>1</td>\n",
       "    </tr>\n",
       "    <tr>\n",
       "      <th>2</th>\n",
       "      <td>48</td>\n",
       "      <td>28.2</td>\n",
       "      <td>7259.34</td>\n",
       "      <td>1</td>\n",
       "      <td>1</td>\n",
       "    </tr>\n",
       "  </tbody>\n",
       "</table>\n",
       "</div>"
      ],
      "text/plain": [
       "   Age   BMI  AnnualCost  SmokingStatus_Smoker  ChronicCondition_Yes\n",
       "0   58  37.0     6725.12                     0                     1\n",
       "2   48  28.2     7259.34                     1                     1"
      ]
     },
     "execution_count": 176,
     "metadata": {},
     "output_type": "execute_result"
    }
   ],
   "source": [
    "costs_1 = pd.get_dummies(costs_1,columns=['SmokingStatus','ChronicCondition'],drop_first=True,dtype=int)\n",
    "costs_1.head(2)"
   ]
  },
  {
   "cell_type": "markdown",
   "id": "94f9901a-a972-4f17-b77e-d1f20e3e1807",
   "metadata": {},
   "source": [
    "#### Convert Age And BMI to scaled features and train the model"
   ]
  },
  {
   "cell_type": "code",
   "execution_count": 190,
   "id": "5aa42638-ef68-4bd4-b11d-82e4c49e7e2e",
   "metadata": {},
   "outputs": [
    {
     "name": "stdout",
     "output_type": "stream",
     "text": [
      "LinearRegression\n",
      "DecisionTree\n",
      "RandomForest\n",
      "AdaBoost\n",
      "GradientBoosting\n",
      "SGD\n"
     ]
    }
   ],
   "source": [
    "X1 = costs_1.drop(['AnnualCost'],axis=1).values\n",
    "y1 = costs_1['AnnualCost'].values\n",
    "X1_train, X1_test, y1_train, y1_test = train_test_split(X1,y1,test_size=0.3,random_state=42)\n",
    "\n",
    "#scaling 0/1 info can distort the information especially in training the tree based models\n",
    "age_index = costs_1.columns.get_loc('Age')\n",
    "bmi_index = costs_1.columns.get_loc('BMI')\n",
    "scale_indices = [age_index, bmi_index]\n",
    "\n",
    "# Copy before modifying\n",
    "X1_train_scaled = X1_train.copy()\n",
    "X1_test_scaled = X1_test.copy()\n",
    "\n",
    "# Scale only selected columns\n",
    "scaler = StandardScaler()\n",
    "\n",
    "# Fit and transform training set\n",
    "X1_train_scaled[:, scale_indices] = scaler.fit_transform(X1_train[:, scale_indices])\n",
    "\n",
    "# Transform test set using same scaler\n",
    "X1_test_scaled[:, scale_indices] = scaler.transform(X1_test[:, scale_indices])\n",
    "\n",
    "results_df1 = Model_Training(X1_train_scaled, y1_train, X1_test_scaled, y1_test, model_names=['LinearRegression','DecisionTree',\n",
    "                                                                           'RandomForest','AdaBoost','GradientBoosting','SGD'], \n",
    "                            param_grids=param_grids)"
   ]
  },
  {
   "cell_type": "code",
   "execution_count": 193,
   "id": "d4af0708-a735-4e9f-91ea-8bef274238da",
   "metadata": {},
   "outputs": [
    {
     "data": {
      "text/html": [
       "<div>\n",
       "<style scoped>\n",
       "    .dataframe tbody tr th:only-of-type {\n",
       "        vertical-align: middle;\n",
       "    }\n",
       "\n",
       "    .dataframe tbody tr th {\n",
       "        vertical-align: top;\n",
       "    }\n",
       "\n",
       "    .dataframe thead th {\n",
       "        text-align: right;\n",
       "    }\n",
       "</style>\n",
       "<table border=\"1\" class=\"dataframe\">\n",
       "  <thead>\n",
       "    <tr style=\"text-align: right;\">\n",
       "      <th></th>\n",
       "      <th>Model</th>\n",
       "      <th>BestParams</th>\n",
       "      <th>CV_R2_Score</th>\n",
       "      <th>Test_R2_Score</th>\n",
       "    </tr>\n",
       "  </thead>\n",
       "  <tbody>\n",
       "    <tr>\n",
       "      <th>0</th>\n",
       "      <td>LinearRegression</td>\n",
       "      <td>None</td>\n",
       "      <td>NaN</td>\n",
       "      <td>-0.402675</td>\n",
       "    </tr>\n",
       "    <tr>\n",
       "      <th>1</th>\n",
       "      <td>DecisionTree</td>\n",
       "      <td>{'max_depth': 1, 'min_samples_leaf': 20, 'rand...</td>\n",
       "      <td>-0.048561</td>\n",
       "      <td>-0.440765</td>\n",
       "    </tr>\n",
       "    <tr>\n",
       "      <th>2</th>\n",
       "      <td>RandomForest</td>\n",
       "      <td>{'max_depth': 1, 'min_samples_leaf': 20, 'n_es...</td>\n",
       "      <td>-0.046793</td>\n",
       "      <td>-0.464353</td>\n",
       "    </tr>\n",
       "    <tr>\n",
       "      <th>3</th>\n",
       "      <td>AdaBoost</td>\n",
       "      <td>{'learning_rate': 0.05, 'n_estimators': 500, '...</td>\n",
       "      <td>-0.479225</td>\n",
       "      <td>-0.634861</td>\n",
       "    </tr>\n",
       "    <tr>\n",
       "      <th>4</th>\n",
       "      <td>GradientBoosting</td>\n",
       "      <td>{'learning_rate': 0.01, 'max_depth': 1, 'min_s...</td>\n",
       "      <td>-0.048561</td>\n",
       "      <td>-0.440765</td>\n",
       "    </tr>\n",
       "    <tr>\n",
       "      <th>5</th>\n",
       "      <td>SGD</td>\n",
       "      <td>{'learning_rate': 0.1, 'max_depth': 1, 'max_fe...</td>\n",
       "      <td>-0.034042</td>\n",
       "      <td>-0.487981</td>\n",
       "    </tr>\n",
       "  </tbody>\n",
       "</table>\n",
       "</div>"
      ],
      "text/plain": [
       "              Model                                         BestParams  \\\n",
       "0  LinearRegression                                               None   \n",
       "1      DecisionTree  {'max_depth': 1, 'min_samples_leaf': 20, 'rand...   \n",
       "2      RandomForest  {'max_depth': 1, 'min_samples_leaf': 20, 'n_es...   \n",
       "3          AdaBoost  {'learning_rate': 0.05, 'n_estimators': 500, '...   \n",
       "4  GradientBoosting  {'learning_rate': 0.01, 'max_depth': 1, 'min_s...   \n",
       "5               SGD  {'learning_rate': 0.1, 'max_depth': 1, 'max_fe...   \n",
       "\n",
       "   CV_R2_Score  Test_R2_Score  \n",
       "0          NaN      -0.402675  \n",
       "1    -0.048561      -0.440765  \n",
       "2    -0.046793      -0.464353  \n",
       "3    -0.479225      -0.634861  \n",
       "4    -0.048561      -0.440765  \n",
       "5    -0.034042      -0.487981  "
      ]
     },
     "execution_count": 193,
     "metadata": {},
     "output_type": "execute_result"
    }
   ],
   "source": [
    "results_df1"
   ]
  },
  {
   "cell_type": "markdown",
   "id": "4bb6bae7-67ec-45ab-94f1-29782e00c265",
   "metadata": {},
   "source": [
    "#### utility function 2"
   ]
  },
  {
   "cell_type": "code",
   "execution_count": 691,
   "id": "76dd3fd2-c0ad-48f9-a94d-80b6581ba3c6",
   "metadata": {},
   "outputs": [],
   "source": [
    "param_grids = {\n",
    "               'DecisionTree':{\n",
    "                   'max_depth':np.arange(1,10,1),\n",
    "                   'min_samples_leaf':[1,2,4,6,8,10,20],\n",
    "                   'random_state':[42]\n",
    "               },\n",
    "               'RandomForest':{\n",
    "                   'max_depth':np.arange(1,10,1),\n",
    "                   'min_samples_leaf': [1,2,4,6,8,10,20],\n",
    "                   'n_estimators': [100,200,300,500],\n",
    "                   'random_state':[42]\n",
    "               },\n",
    "               'AdaBoost':{\n",
    "                   'learning_rate': [0.01, 0.05, 0.1, 0.3, 0.5, 0.7, 1.0],\n",
    "                   'n_estimators': [100,200,300,500],\n",
    "                   'random_state':[42]  \n",
    "               },\n",
    "               'GradientBoosting':{\n",
    "                   'learning_rate': [0.01, 0.05, 0.1],\n",
    "                   'n_estimators': [100,200,300,500],\n",
    "                   'random_state':[42],\n",
    "                   'max_depth':np.arange(1,5,1),\n",
    "                   'min_samples_leaf': [1,2,4,6,8,10,20]\n",
    "               },\n",
    "               'SGD':{\n",
    "                   'learning_rate': [0.01, 0.05, 0.1],\n",
    "                   'subsample':np.linspace(0.1,0.8,8),\n",
    "                   'n_estimators': [100,200,300,500],\n",
    "                   'max_features':[0.1,0.2,0.3,0.4,0.5],\n",
    "                   'random_state':[42],\n",
    "                   'max_depth':np.arange(1,5,1),\n",
    "                   'min_samples_leaf': [1,2,4,6,8,10,20]\n",
    "               }}"
   ]
  },
  {
   "cell_type": "code",
   "execution_count": 693,
   "id": "6fc21b38-8bde-46f5-abb7-5156be5861da",
   "metadata": {},
   "outputs": [],
   "source": [
    "def Model_Training_log(X_train, y_train, X_test, y_test, model_names, param_grids=None):\n",
    "    models = {\n",
    "        'LinearRegression': LinearRegression(),\n",
    "        'DecisionTree': DecisionTreeRegressor(),\n",
    "        'RandomForest': RandomForestRegressor(),\n",
    "        'AdaBoost': AdaBoostRegressor(),\n",
    "        'GradientBoosting': GradientBoostingRegressor(),\n",
    "        'SGD': GradientBoostingRegressor()\n",
    "    }\n",
    "\n",
    "    results = []\n",
    "\n",
    "    # Log-transform the target\n",
    "    y_train_log = np.log1p(y_train)\n",
    "\n",
    "    for model_name in model_names:\n",
    "        model = models.get(model_name)\n",
    "        print(model_name)\n",
    "        if model is None:\n",
    "            print(f\"Model '{model_name}' not recognized. Skipping.\")\n",
    "            continue\n",
    "\n",
    "        if param_grids is None or model_name not in param_grids:\n",
    "            model.fit(X_train, y_train_log)\n",
    "            y_pred_log = model.predict(X_test)\n",
    "            y_pred = np.expm1(y_pred_log)  # inverse-transform\n",
    "            r2 = r2_score(y_test, y_pred)\n",
    "\n",
    "            results.append({\n",
    "                'Model': model_name,\n",
    "                'BestParams': None,\n",
    "                'CV_R2_Score': None,\n",
    "                'Test_R2_Score': r2\n",
    "            })\n",
    "        else:\n",
    "            param_grid = param_grids[model_name]\n",
    "            kf = KFold(n_splits=4, shuffle=True, random_state=42)\n",
    "            grid = GridSearchCV(estimator=model, param_grid=param_grid, cv=kf)\n",
    "            grid.fit(X_train, y_train_log)\n",
    "\n",
    "            best_model = grid.best_estimator_\n",
    "            best_cv_r2 = grid.best_score_\n",
    "\n",
    "            y_pred_log = best_model.predict(X_test)\n",
    "            y_pred = np.expm1(y_pred_log)\n",
    "            test_r2 = r2_score(y_test, y_pred)\n",
    "\n",
    "            results.append({\n",
    "                'Model': model_name,\n",
    "                'BestParams': grid.best_params_,\n",
    "                'CV_R2_Score': best_cv_r2,\n",
    "                'Test_R2_Score': test_r2\n",
    "            })\n",
    "\n",
    "    return pd.DataFrame(results)"
   ]
  },
  {
   "cell_type": "markdown",
   "id": "29f7a930-7531-4c53-9996-1637a6ee7700",
   "metadata": {},
   "source": [
    "#### Applying log transformation to AnnualCost to train the model"
   ]
  },
  {
   "cell_type": "code",
   "execution_count": 695,
   "id": "4bd847f5-01b7-4985-93d7-bce83918ae39",
   "metadata": {},
   "outputs": [
    {
     "data": {
      "text/html": [
       "<div>\n",
       "<style scoped>\n",
       "    .dataframe tbody tr th:only-of-type {\n",
       "        vertical-align: middle;\n",
       "    }\n",
       "\n",
       "    .dataframe tbody tr th {\n",
       "        vertical-align: top;\n",
       "    }\n",
       "\n",
       "    .dataframe thead th {\n",
       "        text-align: right;\n",
       "    }\n",
       "</style>\n",
       "<table border=\"1\" class=\"dataframe\">\n",
       "  <thead>\n",
       "    <tr style=\"text-align: right;\">\n",
       "      <th></th>\n",
       "      <th>Age</th>\n",
       "      <th>BMI</th>\n",
       "      <th>SmokingStatus</th>\n",
       "      <th>ChronicCondition</th>\n",
       "      <th>AnnualCost</th>\n",
       "    </tr>\n",
       "  </thead>\n",
       "  <tbody>\n",
       "    <tr>\n",
       "      <th>0</th>\n",
       "      <td>58</td>\n",
       "      <td>37.0</td>\n",
       "      <td>Non-Smoker</td>\n",
       "      <td>Yes</td>\n",
       "      <td>6725.12</td>\n",
       "    </tr>\n",
       "    <tr>\n",
       "      <th>1</th>\n",
       "      <td>71</td>\n",
       "      <td>33.1</td>\n",
       "      <td>Smoker</td>\n",
       "      <td>Yes</td>\n",
       "      <td>17359.16</td>\n",
       "    </tr>\n",
       "  </tbody>\n",
       "</table>\n",
       "</div>"
      ],
      "text/plain": [
       "   Age   BMI SmokingStatus ChronicCondition  AnnualCost\n",
       "0   58  37.0    Non-Smoker              Yes     6725.12\n",
       "1   71  33.1        Smoker              Yes    17359.16"
      ]
     },
     "execution_count": 695,
     "metadata": {},
     "output_type": "execute_result"
    }
   ],
   "source": [
    "costs_2 = costs.copy()\n",
    "costs_2.head(2)"
   ]
  },
  {
   "cell_type": "code",
   "execution_count": 697,
   "id": "2174bc01-5686-49a8-a9f0-b1842344763a",
   "metadata": {},
   "outputs": [],
   "source": [
    "costs_2 = create_categories(costs_2,col_name=\"AnnualCost\", new_col_name=\"CostCat\",labels=['Minimum','Least','Median','Upper-Median','Maximum'])\n",
    "costs_2 = create_categories(costs_2,col_name=\"BMI\", new_col_name=\"BMICat\",labels=['L','ML','H','MH','VH'])\n",
    "costs_2 = create_categories(costs_2,col_name='Age', new_col_name=\"AgeCat\", labels=['Very-Young','Young-Adult','Middle-Aged','Late-Middle-Age','Senior'])"
   ]
  },
  {
   "cell_type": "code",
   "execution_count": 699,
   "id": "42ee4bfa-9cf9-4b9b-9e50-dd79087b06df",
   "metadata": {},
   "outputs": [
    {
     "data": {
      "text/plain": [
       "(49, 8)"
      ]
     },
     "execution_count": 699,
     "metadata": {},
     "output_type": "execute_result"
    }
   ],
   "source": [
    "costs_2 = remove_outliers(costs_2,'AnnualCost')\n",
    "costs_2 = remove_outliers(costs_2,'BMI')\n",
    "costs_2.shape"
   ]
  },
  {
   "cell_type": "code",
   "execution_count": 701,
   "id": "c1cbf542-f570-4ddf-83d9-c5195fd109c9",
   "metadata": {},
   "outputs": [
    {
     "data": {
      "text/html": [
       "<div>\n",
       "<style scoped>\n",
       "    .dataframe tbody tr th:only-of-type {\n",
       "        vertical-align: middle;\n",
       "    }\n",
       "\n",
       "    .dataframe tbody tr th {\n",
       "        vertical-align: top;\n",
       "    }\n",
       "\n",
       "    .dataframe thead th {\n",
       "        text-align: right;\n",
       "    }\n",
       "</style>\n",
       "<table border=\"1\" class=\"dataframe\">\n",
       "  <thead>\n",
       "    <tr style=\"text-align: right;\">\n",
       "      <th></th>\n",
       "      <th>Age</th>\n",
       "      <th>BMI</th>\n",
       "      <th>AnnualCost</th>\n",
       "      <th>SmokingStatus_Smoker</th>\n",
       "      <th>ChronicCondition_Yes</th>\n",
       "      <th>CostCat_Least</th>\n",
       "      <th>CostCat_Median</th>\n",
       "      <th>CostCat_Upper-Median</th>\n",
       "      <th>CostCat_Maximum</th>\n",
       "      <th>BMICat_ML</th>\n",
       "      <th>BMICat_H</th>\n",
       "      <th>BMICat_MH</th>\n",
       "      <th>BMICat_VH</th>\n",
       "      <th>AgeCat_Young-Adult</th>\n",
       "      <th>AgeCat_Middle-Aged</th>\n",
       "      <th>AgeCat_Late-Middle-Age</th>\n",
       "      <th>AgeCat_Senior</th>\n",
       "    </tr>\n",
       "  </thead>\n",
       "  <tbody>\n",
       "    <tr>\n",
       "      <th>0</th>\n",
       "      <td>58</td>\n",
       "      <td>37.0</td>\n",
       "      <td>6725.12</td>\n",
       "      <td>0</td>\n",
       "      <td>1</td>\n",
       "      <td>1</td>\n",
       "      <td>0</td>\n",
       "      <td>0</td>\n",
       "      <td>0</td>\n",
       "      <td>0</td>\n",
       "      <td>0</td>\n",
       "      <td>0</td>\n",
       "      <td>1</td>\n",
       "      <td>0</td>\n",
       "      <td>0</td>\n",
       "      <td>1</td>\n",
       "      <td>0</td>\n",
       "    </tr>\n",
       "    <tr>\n",
       "      <th>2</th>\n",
       "      <td>48</td>\n",
       "      <td>28.2</td>\n",
       "      <td>7259.34</td>\n",
       "      <td>1</td>\n",
       "      <td>1</td>\n",
       "      <td>1</td>\n",
       "      <td>0</td>\n",
       "      <td>0</td>\n",
       "      <td>0</td>\n",
       "      <td>0</td>\n",
       "      <td>1</td>\n",
       "      <td>0</td>\n",
       "      <td>0</td>\n",
       "      <td>0</td>\n",
       "      <td>1</td>\n",
       "      <td>0</td>\n",
       "      <td>0</td>\n",
       "    </tr>\n",
       "    <tr>\n",
       "      <th>3</th>\n",
       "      <td>34</td>\n",
       "      <td>18.8</td>\n",
       "      <td>12287.21</td>\n",
       "      <td>0</td>\n",
       "      <td>1</td>\n",
       "      <td>0</td>\n",
       "      <td>0</td>\n",
       "      <td>0</td>\n",
       "      <td>1</td>\n",
       "      <td>0</td>\n",
       "      <td>0</td>\n",
       "      <td>0</td>\n",
       "      <td>0</td>\n",
       "      <td>1</td>\n",
       "      <td>0</td>\n",
       "      <td>0</td>\n",
       "      <td>0</td>\n",
       "    </tr>\n",
       "    <tr>\n",
       "      <th>4</th>\n",
       "      <td>62</td>\n",
       "      <td>38.8</td>\n",
       "      <td>8334.85</td>\n",
       "      <td>0</td>\n",
       "      <td>1</td>\n",
       "      <td>0</td>\n",
       "      <td>1</td>\n",
       "      <td>0</td>\n",
       "      <td>0</td>\n",
       "      <td>0</td>\n",
       "      <td>0</td>\n",
       "      <td>0</td>\n",
       "      <td>1</td>\n",
       "      <td>0</td>\n",
       "      <td>0</td>\n",
       "      <td>1</td>\n",
       "      <td>0</td>\n",
       "    </tr>\n",
       "    <tr>\n",
       "      <th>5</th>\n",
       "      <td>27</td>\n",
       "      <td>30.6</td>\n",
       "      <td>8715.53</td>\n",
       "      <td>0</td>\n",
       "      <td>1</td>\n",
       "      <td>0</td>\n",
       "      <td>1</td>\n",
       "      <td>0</td>\n",
       "      <td>0</td>\n",
       "      <td>0</td>\n",
       "      <td>0</td>\n",
       "      <td>1</td>\n",
       "      <td>0</td>\n",
       "      <td>1</td>\n",
       "      <td>0</td>\n",
       "      <td>0</td>\n",
       "      <td>0</td>\n",
       "    </tr>\n",
       "  </tbody>\n",
       "</table>\n",
       "</div>"
      ],
      "text/plain": [
       "   Age   BMI  AnnualCost  SmokingStatus_Smoker  ChronicCondition_Yes  \\\n",
       "0   58  37.0     6725.12                     0                     1   \n",
       "2   48  28.2     7259.34                     1                     1   \n",
       "3   34  18.8    12287.21                     0                     1   \n",
       "4   62  38.8     8334.85                     0                     1   \n",
       "5   27  30.6     8715.53                     0                     1   \n",
       "\n",
       "   CostCat_Least  CostCat_Median  CostCat_Upper-Median  CostCat_Maximum  \\\n",
       "0              1               0                     0                0   \n",
       "2              1               0                     0                0   \n",
       "3              0               0                     0                1   \n",
       "4              0               1                     0                0   \n",
       "5              0               1                     0                0   \n",
       "\n",
       "   BMICat_ML  BMICat_H  BMICat_MH  BMICat_VH  AgeCat_Young-Adult  \\\n",
       "0          0         0          0          1                   0   \n",
       "2          0         1          0          0                   0   \n",
       "3          0         0          0          0                   1   \n",
       "4          0         0          0          1                   0   \n",
       "5          0         0          1          0                   1   \n",
       "\n",
       "   AgeCat_Middle-Aged  AgeCat_Late-Middle-Age  AgeCat_Senior  \n",
       "0                   0                       1              0  \n",
       "2                   1                       0              0  \n",
       "3                   0                       0              0  \n",
       "4                   0                       1              0  \n",
       "5                   0                       0              0  "
      ]
     },
     "execution_count": 701,
     "metadata": {},
     "output_type": "execute_result"
    }
   ],
   "source": [
    "costs_2 = pd.get_dummies(costs_2,columns=['SmokingStatus','ChronicCondition','CostCat','BMICat','AgeCat'],drop_first=True,dtype=int)\n",
    "costs_2.head()"
   ]
  },
  {
   "cell_type": "code",
   "execution_count": 703,
   "id": "bc4e7802-2d9f-4260-bfab-c154d6020b14",
   "metadata": {},
   "outputs": [
    {
     "name": "stdout",
     "output_type": "stream",
     "text": [
      "LinearRegression\n",
      "DecisionTree\n",
      "RandomForest\n",
      "AdaBoost\n",
      "GradientBoosting\n",
      "SGD\n"
     ]
    }
   ],
   "source": [
    "X2 = costs_2.drop(['Age','BMI','AnnualCost'],axis=1).values\n",
    "y2 = costs_2['AnnualCost'].values\n",
    "X2_train, X2_test, y2_train, y2_test = train_test_split(X2,y2,test_size=0.3,random_state=42)\n",
    "\n",
    "results_df2 = Model_Training_log(X2_train, y2_train, X2_test, y2_test, model_names=['LinearRegression','DecisionTree',\n",
    "                                                                           'RandomForest','AdaBoost','GradientBoosting','SGD'], \n",
    "                            param_grids=param_grids)"
   ]
  },
  {
   "cell_type": "code",
   "execution_count": 709,
   "id": "6ad22689-90a6-456b-8b5b-1718453d3d0d",
   "metadata": {},
   "outputs": [
    {
     "data": {
      "text/html": [
       "<div>\n",
       "<style scoped>\n",
       "    .dataframe tbody tr th:only-of-type {\n",
       "        vertical-align: middle;\n",
       "    }\n",
       "\n",
       "    .dataframe tbody tr th {\n",
       "        vertical-align: top;\n",
       "    }\n",
       "\n",
       "    .dataframe thead th {\n",
       "        text-align: right;\n",
       "    }\n",
       "</style>\n",
       "<table border=\"1\" class=\"dataframe\">\n",
       "  <thead>\n",
       "    <tr style=\"text-align: right;\">\n",
       "      <th></th>\n",
       "      <th>Model</th>\n",
       "      <th>BestParams</th>\n",
       "      <th>CV_R2_Score</th>\n",
       "      <th>Test_R2_Score</th>\n",
       "    </tr>\n",
       "  </thead>\n",
       "  <tbody>\n",
       "    <tr>\n",
       "      <th>3</th>\n",
       "      <td>AdaBoost</td>\n",
       "      <td>{'learning_rate': 0.7, 'n_estimators': 100, 'r...</td>\n",
       "      <td>0.648256</td>\n",
       "      <td>0.755674</td>\n",
       "    </tr>\n",
       "    <tr>\n",
       "      <th>2</th>\n",
       "      <td>RandomForest</td>\n",
       "      <td>{'max_depth': 2, 'min_samples_leaf': 2, 'n_est...</td>\n",
       "      <td>0.643044</td>\n",
       "      <td>0.749676</td>\n",
       "    </tr>\n",
       "    <tr>\n",
       "      <th>1</th>\n",
       "      <td>DecisionTree</td>\n",
       "      <td>{'max_depth': 2, 'min_samples_leaf': 6, 'rando...</td>\n",
       "      <td>0.622992</td>\n",
       "      <td>0.732740</td>\n",
       "    </tr>\n",
       "    <tr>\n",
       "      <th>4</th>\n",
       "      <td>GradientBoosting</td>\n",
       "      <td>{'learning_rate': 0.1, 'max_depth': 1, 'min_sa...</td>\n",
       "      <td>0.714789</td>\n",
       "      <td>0.723553</td>\n",
       "    </tr>\n",
       "    <tr>\n",
       "      <th>5</th>\n",
       "      <td>SGD</td>\n",
       "      <td>{'learning_rate': 0.1, 'max_depth': 1, 'max_fe...</td>\n",
       "      <td>0.691495</td>\n",
       "      <td>0.699403</td>\n",
       "    </tr>\n",
       "    <tr>\n",
       "      <th>0</th>\n",
       "      <td>LinearRegression</td>\n",
       "      <td>None</td>\n",
       "      <td>NaN</td>\n",
       "      <td>0.585388</td>\n",
       "    </tr>\n",
       "  </tbody>\n",
       "</table>\n",
       "</div>"
      ],
      "text/plain": [
       "              Model                                         BestParams  \\\n",
       "3          AdaBoost  {'learning_rate': 0.7, 'n_estimators': 100, 'r...   \n",
       "2      RandomForest  {'max_depth': 2, 'min_samples_leaf': 2, 'n_est...   \n",
       "1      DecisionTree  {'max_depth': 2, 'min_samples_leaf': 6, 'rando...   \n",
       "4  GradientBoosting  {'learning_rate': 0.1, 'max_depth': 1, 'min_sa...   \n",
       "5               SGD  {'learning_rate': 0.1, 'max_depth': 1, 'max_fe...   \n",
       "0  LinearRegression                                               None   \n",
       "\n",
       "   CV_R2_Score  Test_R2_Score  \n",
       "3     0.648256       0.755674  \n",
       "2     0.643044       0.749676  \n",
       "1     0.622992       0.732740  \n",
       "4     0.714789       0.723553  \n",
       "5     0.691495       0.699403  \n",
       "0          NaN       0.585388  "
      ]
     },
     "execution_count": 709,
     "metadata": {},
     "output_type": "execute_result"
    }
   ],
   "source": [
    "results_df2.sort_values(by=\"Test_R2_Score\",ascending=False)"
   ]
  },
  {
   "cell_type": "markdown",
   "id": "d43d62a3-c81d-40fb-bb2b-c225c655ff99",
   "metadata": {},
   "source": [
    "#### Limited Feature Engineering with log transformed AnnualCost"
   ]
  },
  {
   "cell_type": "code",
   "execution_count": 729,
   "id": "79f34925-8bbb-4439-891b-568e879af0ed",
   "metadata": {},
   "outputs": [
    {
     "data": {
      "text/html": [
       "<div>\n",
       "<style scoped>\n",
       "    .dataframe tbody tr th:only-of-type {\n",
       "        vertical-align: middle;\n",
       "    }\n",
       "\n",
       "    .dataframe tbody tr th {\n",
       "        vertical-align: top;\n",
       "    }\n",
       "\n",
       "    .dataframe thead th {\n",
       "        text-align: right;\n",
       "    }\n",
       "</style>\n",
       "<table border=\"1\" class=\"dataframe\">\n",
       "  <thead>\n",
       "    <tr style=\"text-align: right;\">\n",
       "      <th></th>\n",
       "      <th>Age</th>\n",
       "      <th>BMI</th>\n",
       "      <th>AnnualCost</th>\n",
       "      <th>SmokingStatus_Smoker</th>\n",
       "      <th>ChronicCondition_Yes</th>\n",
       "    </tr>\n",
       "  </thead>\n",
       "  <tbody>\n",
       "    <tr>\n",
       "      <th>0</th>\n",
       "      <td>58</td>\n",
       "      <td>37.0</td>\n",
       "      <td>6725.12</td>\n",
       "      <td>0</td>\n",
       "      <td>1</td>\n",
       "    </tr>\n",
       "    <tr>\n",
       "      <th>2</th>\n",
       "      <td>48</td>\n",
       "      <td>28.2</td>\n",
       "      <td>7259.34</td>\n",
       "      <td>1</td>\n",
       "      <td>1</td>\n",
       "    </tr>\n",
       "  </tbody>\n",
       "</table>\n",
       "</div>"
      ],
      "text/plain": [
       "   Age   BMI  AnnualCost  SmokingStatus_Smoker  ChronicCondition_Yes\n",
       "0   58  37.0     6725.12                     0                     1\n",
       "2   48  28.2     7259.34                     1                     1"
      ]
     },
     "execution_count": 729,
     "metadata": {},
     "output_type": "execute_result"
    }
   ],
   "source": [
    "costs_3 = costs.copy()\n",
    "costs_3 = remove_outliers(costs_3,'AnnualCost')\n",
    "costs_3 = remove_outliers(costs_3,'BMI')\n",
    "costs_3 = pd.get_dummies(costs_3,columns=['SmokingStatus','ChronicCondition'],drop_first=True,dtype=int)\n",
    "costs_3.head(2)"
   ]
  },
  {
   "cell_type": "code",
   "execution_count": 720,
   "id": "1064c084-3638-4e3c-baec-0b0d24326d90",
   "metadata": {},
   "outputs": [
    {
     "name": "stdout",
     "output_type": "stream",
     "text": [
      "LinearRegression\n",
      "DecisionTree\n",
      "RandomForest\n",
      "AdaBoost\n",
      "GradientBoosting\n",
      "SGD\n"
     ]
    }
   ],
   "source": [
    "X3 = costs_3.drop(['AnnualCost'],axis=1).values\n",
    "y3 = costs_3['AnnualCost'].values\n",
    "X3_train, X3_test, y3_train, y3_test = train_test_split(X3,y3,test_size=0.3,random_state=42)\n",
    "\n",
    "#scaling 0/1 info can distort the information especially in training the tree based models\n",
    "age_index = costs_3.columns.get_loc('Age')\n",
    "bmi_index = costs_3.columns.get_loc('BMI')\n",
    "scale_indices = [age_index, bmi_index]\n",
    "\n",
    "# Copy before modifying\n",
    "X3_train_scaled = X3_train.copy()\n",
    "X3_test_scaled = X3_test.copy()\n",
    "\n",
    "# Scale only selected columns\n",
    "scaler = StandardScaler()\n",
    "\n",
    "# Fit and transform training set\n",
    "X3_train_scaled[:, scale_indices] = scaler.fit_transform(X3_train[:, scale_indices])\n",
    "\n",
    "# Transform test set using same scaler\n",
    "X3_test_scaled[:, scale_indices] = scaler.transform(X3_test[:, scale_indices])\n",
    "\n",
    "results_df3 = Model_Training_log(X3_train_scaled, y3_train, X3_test_scaled, y3_test, model_names=['LinearRegression','DecisionTree',\n",
    "                                                                           'RandomForest','AdaBoost','GradientBoosting','SGD'], \n",
    "                            param_grids=param_grids)"
   ]
  },
  {
   "cell_type": "code",
   "execution_count": 725,
   "id": "f8736ed8-486b-4268-acd4-fa3d62e0a403",
   "metadata": {},
   "outputs": [
    {
     "data": {
      "text/html": [
       "<div>\n",
       "<style scoped>\n",
       "    .dataframe tbody tr th:only-of-type {\n",
       "        vertical-align: middle;\n",
       "    }\n",
       "\n",
       "    .dataframe tbody tr th {\n",
       "        vertical-align: top;\n",
       "    }\n",
       "\n",
       "    .dataframe thead th {\n",
       "        text-align: right;\n",
       "    }\n",
       "</style>\n",
       "<table border=\"1\" class=\"dataframe\">\n",
       "  <thead>\n",
       "    <tr style=\"text-align: right;\">\n",
       "      <th></th>\n",
       "      <th>Model</th>\n",
       "      <th>BestParams</th>\n",
       "      <th>CV_R2_Score</th>\n",
       "      <th>Test_R2_Score</th>\n",
       "    </tr>\n",
       "  </thead>\n",
       "  <tbody>\n",
       "    <tr>\n",
       "      <th>0</th>\n",
       "      <td>LinearRegression</td>\n",
       "      <td>None</td>\n",
       "      <td>NaN</td>\n",
       "      <td>-0.609933</td>\n",
       "    </tr>\n",
       "    <tr>\n",
       "      <th>1</th>\n",
       "      <td>DecisionTree</td>\n",
       "      <td>{'max_depth': 1, 'min_samples_leaf': 20, 'rand...</td>\n",
       "      <td>-0.039251</td>\n",
       "      <td>-0.704741</td>\n",
       "    </tr>\n",
       "    <tr>\n",
       "      <th>4</th>\n",
       "      <td>GradientBoosting</td>\n",
       "      <td>{'learning_rate': 0.01, 'max_depth': 1, 'min_s...</td>\n",
       "      <td>-0.039251</td>\n",
       "      <td>-0.704741</td>\n",
       "    </tr>\n",
       "    <tr>\n",
       "      <th>2</th>\n",
       "      <td>RandomForest</td>\n",
       "      <td>{'max_depth': 1, 'min_samples_leaf': 20, 'n_es...</td>\n",
       "      <td>-0.038226</td>\n",
       "      <td>-0.740251</td>\n",
       "    </tr>\n",
       "    <tr>\n",
       "      <th>5</th>\n",
       "      <td>SGD</td>\n",
       "      <td>{'learning_rate': 0.1, 'max_depth': 1, 'max_fe...</td>\n",
       "      <td>-0.028634</td>\n",
       "      <td>-0.760941</td>\n",
       "    </tr>\n",
       "    <tr>\n",
       "      <th>3</th>\n",
       "      <td>AdaBoost</td>\n",
       "      <td>{'learning_rate': 0.3, 'n_estimators': 100, 'r...</td>\n",
       "      <td>-0.350153</td>\n",
       "      <td>-0.945112</td>\n",
       "    </tr>\n",
       "  </tbody>\n",
       "</table>\n",
       "</div>"
      ],
      "text/plain": [
       "              Model                                         BestParams  \\\n",
       "0  LinearRegression                                               None   \n",
       "1      DecisionTree  {'max_depth': 1, 'min_samples_leaf': 20, 'rand...   \n",
       "4  GradientBoosting  {'learning_rate': 0.01, 'max_depth': 1, 'min_s...   \n",
       "2      RandomForest  {'max_depth': 1, 'min_samples_leaf': 20, 'n_es...   \n",
       "5               SGD  {'learning_rate': 0.1, 'max_depth': 1, 'max_fe...   \n",
       "3          AdaBoost  {'learning_rate': 0.3, 'n_estimators': 100, 'r...   \n",
       "\n",
       "   CV_R2_Score  Test_R2_Score  \n",
       "0          NaN      -0.609933  \n",
       "1    -0.039251      -0.704741  \n",
       "4    -0.039251      -0.704741  \n",
       "2    -0.038226      -0.740251  \n",
       "5    -0.028634      -0.760941  \n",
       "3    -0.350153      -0.945112  "
      ]
     },
     "execution_count": 725,
     "metadata": {},
     "output_type": "execute_result"
    }
   ],
   "source": [
    "results_df3.sort_values(by=\"Test_R2_Score\",ascending=False)"
   ]
  },
  {
   "cell_type": "markdown",
   "id": "46c494d1-ea6a-4fe1-bcb7-507e7c73b24c",
   "metadata": {},
   "source": [
    "#### Comparing the models"
   ]
  },
  {
   "cell_type": "code",
   "execution_count": 809,
   "id": "72945c3e-b3b8-45e2-a010-86b3aad18b4a",
   "metadata": {},
   "outputs": [
    {
     "data": {
      "text/html": [
       "<div>\n",
       "<style scoped>\n",
       "    .dataframe tbody tr th:only-of-type {\n",
       "        vertical-align: middle;\n",
       "    }\n",
       "\n",
       "    .dataframe tbody tr th {\n",
       "        vertical-align: top;\n",
       "    }\n",
       "\n",
       "    .dataframe thead th {\n",
       "        text-align: right;\n",
       "    }\n",
       "</style>\n",
       "<table border=\"1\" class=\"dataframe\">\n",
       "  <thead>\n",
       "    <tr style=\"text-align: right;\">\n",
       "      <th></th>\n",
       "      <th>Model</th>\n",
       "      <th>BestParams</th>\n",
       "      <th>CV_R2_Score</th>\n",
       "      <th>Test_R2_Score</th>\n",
       "    </tr>\n",
       "  </thead>\n",
       "  <tbody>\n",
       "    <tr>\n",
       "      <th>4</th>\n",
       "      <td>GradientBoosting</td>\n",
       "      <td>{'learning_rate': 0.05, 'max_depth': 1, 'min_s...</td>\n",
       "      <td>0.775127</td>\n",
       "      <td>0.792657</td>\n",
       "    </tr>\n",
       "    <tr>\n",
       "      <th>1</th>\n",
       "      <td>DecisionTree</td>\n",
       "      <td>{'max_depth': 3, 'min_samples_leaf': 2, 'rando...</td>\n",
       "      <td>0.780630</td>\n",
       "      <td>0.785731</td>\n",
       "    </tr>\n",
       "    <tr>\n",
       "      <th>3</th>\n",
       "      <td>AdaBoost</td>\n",
       "      <td>{'learning_rate': 0.01, 'n_estimators': 500, '...</td>\n",
       "      <td>0.691585</td>\n",
       "      <td>0.778883</td>\n",
       "    </tr>\n",
       "    <tr>\n",
       "      <th>2</th>\n",
       "      <td>RandomForest</td>\n",
       "      <td>{'max_depth': 2, 'min_samples_leaf': 2, 'n_est...</td>\n",
       "      <td>0.727329</td>\n",
       "      <td>0.773094</td>\n",
       "    </tr>\n",
       "    <tr>\n",
       "      <th>5</th>\n",
       "      <td>SGD</td>\n",
       "      <td>{'learning_rate': 0.1, 'max_depth': 1, 'max_fe...</td>\n",
       "      <td>0.751514</td>\n",
       "      <td>0.757406</td>\n",
       "    </tr>\n",
       "    <tr>\n",
       "      <th>0</th>\n",
       "      <td>LinearRegression</td>\n",
       "      <td>None</td>\n",
       "      <td>NaN</td>\n",
       "      <td>0.624420</td>\n",
       "    </tr>\n",
       "  </tbody>\n",
       "</table>\n",
       "</div>"
      ],
      "text/plain": [
       "              Model                                         BestParams  \\\n",
       "4  GradientBoosting  {'learning_rate': 0.05, 'max_depth': 1, 'min_s...   \n",
       "1      DecisionTree  {'max_depth': 3, 'min_samples_leaf': 2, 'rando...   \n",
       "3          AdaBoost  {'learning_rate': 0.01, 'n_estimators': 500, '...   \n",
       "2      RandomForest  {'max_depth': 2, 'min_samples_leaf': 2, 'n_est...   \n",
       "5               SGD  {'learning_rate': 0.1, 'max_depth': 1, 'max_fe...   \n",
       "0  LinearRegression                                               None   \n",
       "\n",
       "   CV_R2_Score  Test_R2_Score  \n",
       "4     0.775127       0.792657  \n",
       "1     0.780630       0.785731  \n",
       "3     0.691585       0.778883  \n",
       "2     0.727329       0.773094  \n",
       "5     0.751514       0.757406  \n",
       "0          NaN       0.624420  "
      ]
     },
     "execution_count": 809,
     "metadata": {},
     "output_type": "execute_result"
    }
   ],
   "source": [
    "results_df.sort_values(by=\"Test_R2_Score\",ascending=False)"
   ]
  },
  {
   "cell_type": "code",
   "execution_count": 741,
   "id": "16283088-9427-4bba-bd9b-432e8939776c",
   "metadata": {},
   "outputs": [
    {
     "data": {
      "text/html": [
       "<div>\n",
       "<style scoped>\n",
       "    .dataframe tbody tr th:only-of-type {\n",
       "        vertical-align: middle;\n",
       "    }\n",
       "\n",
       "    .dataframe tbody tr th {\n",
       "        vertical-align: top;\n",
       "    }\n",
       "\n",
       "    .dataframe thead th {\n",
       "        text-align: right;\n",
       "    }\n",
       "</style>\n",
       "<table border=\"1\" class=\"dataframe\">\n",
       "  <thead>\n",
       "    <tr style=\"text-align: right;\">\n",
       "      <th></th>\n",
       "      <th>Model</th>\n",
       "      <th>BestParams</th>\n",
       "      <th>CV_R2_Score</th>\n",
       "      <th>Test_R2_Score</th>\n",
       "    </tr>\n",
       "  </thead>\n",
       "  <tbody>\n",
       "    <tr>\n",
       "      <th>3</th>\n",
       "      <td>AdaBoost</td>\n",
       "      <td>{'learning_rate': 0.7, 'n_estimators': 100, 'r...</td>\n",
       "      <td>0.648256</td>\n",
       "      <td>0.755674</td>\n",
       "    </tr>\n",
       "    <tr>\n",
       "      <th>2</th>\n",
       "      <td>RandomForest</td>\n",
       "      <td>{'max_depth': 2, 'min_samples_leaf': 2, 'n_est...</td>\n",
       "      <td>0.643044</td>\n",
       "      <td>0.749676</td>\n",
       "    </tr>\n",
       "    <tr>\n",
       "      <th>1</th>\n",
       "      <td>DecisionTree</td>\n",
       "      <td>{'max_depth': 2, 'min_samples_leaf': 6, 'rando...</td>\n",
       "      <td>0.622992</td>\n",
       "      <td>0.732740</td>\n",
       "    </tr>\n",
       "    <tr>\n",
       "      <th>4</th>\n",
       "      <td>GradientBoosting</td>\n",
       "      <td>{'learning_rate': 0.1, 'max_depth': 1, 'min_sa...</td>\n",
       "      <td>0.714789</td>\n",
       "      <td>0.723553</td>\n",
       "    </tr>\n",
       "    <tr>\n",
       "      <th>5</th>\n",
       "      <td>SGD</td>\n",
       "      <td>{'learning_rate': 0.1, 'max_depth': 1, 'max_fe...</td>\n",
       "      <td>0.691495</td>\n",
       "      <td>0.699403</td>\n",
       "    </tr>\n",
       "    <tr>\n",
       "      <th>0</th>\n",
       "      <td>LinearRegression</td>\n",
       "      <td>None</td>\n",
       "      <td>NaN</td>\n",
       "      <td>0.585388</td>\n",
       "    </tr>\n",
       "  </tbody>\n",
       "</table>\n",
       "</div>"
      ],
      "text/plain": [
       "              Model                                         BestParams  \\\n",
       "3          AdaBoost  {'learning_rate': 0.7, 'n_estimators': 100, 'r...   \n",
       "2      RandomForest  {'max_depth': 2, 'min_samples_leaf': 2, 'n_est...   \n",
       "1      DecisionTree  {'max_depth': 2, 'min_samples_leaf': 6, 'rando...   \n",
       "4  GradientBoosting  {'learning_rate': 0.1, 'max_depth': 1, 'min_sa...   \n",
       "5               SGD  {'learning_rate': 0.1, 'max_depth': 1, 'max_fe...   \n",
       "0  LinearRegression                                               None   \n",
       "\n",
       "   CV_R2_Score  Test_R2_Score  \n",
       "3     0.648256       0.755674  \n",
       "2     0.643044       0.749676  \n",
       "1     0.622992       0.732740  \n",
       "4     0.714789       0.723553  \n",
       "5     0.691495       0.699403  \n",
       "0          NaN       0.585388  "
      ]
     },
     "execution_count": 741,
     "metadata": {},
     "output_type": "execute_result"
    }
   ],
   "source": [
    "results_df2.sort_values(by=\"Test_R2_Score\",ascending=False)"
   ]
  },
  {
   "cell_type": "markdown",
   "id": "803e63a1-fe80-4714-808b-b46f6f52f1d8",
   "metadata": {},
   "source": [
    "##### results_df -> Multiple feature engineering\n",
    "##### results_df2 -> Multiple feature engineering with log transformation applied to AnnualCost"
   ]
  }
 ],
 "metadata": {
  "kernelspec": {
   "display_name": "Python 3 (ipykernel)",
   "language": "python",
   "name": "python3"
  },
  "language_info": {
   "codemirror_mode": {
    "name": "ipython",
    "version": 3
   },
   "file_extension": ".py",
   "mimetype": "text/x-python",
   "name": "python",
   "nbconvert_exporter": "python",
   "pygments_lexer": "ipython3",
   "version": "3.12.4"
  }
 },
 "nbformat": 4,
 "nbformat_minor": 5
}
